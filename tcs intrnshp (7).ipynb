{
 "cells": [
  {
   "cell_type": "code",
   "execution_count": 1,
   "id": "4325e3d2",
   "metadata": {},
   "outputs": [],
   "source": [
    "import numpy as np\n",
    "import pandas as pd\n",
    "from random import choice, sample\n",
    "import matplotlib.pyplot as plt\n",
    "import seaborn as sns\n",
    "%matplotlib inline"
   ]
  },
  {
   "cell_type": "code",
   "execution_count": 2,
   "id": "a473fbce",
   "metadata": {},
   "outputs": [],
   "source": [
    "df=pd.read_csv(r\"C:\\Users\\ABISA\\Desktop\\drug side effect.csv\")"
   ]
  },
  {
   "cell_type": "code",
   "execution_count": 3,
   "id": "a4df4255",
   "metadata": {},
   "outputs": [
    {
     "data": {
      "text/html": [
       "<div>\n",
       "<style scoped>\n",
       "    .dataframe tbody tr th:only-of-type {\n",
       "        vertical-align: middle;\n",
       "    }\n",
       "\n",
       "    .dataframe tbody tr th {\n",
       "        vertical-align: top;\n",
       "    }\n",
       "\n",
       "    .dataframe thead th {\n",
       "        text-align: right;\n",
       "    }\n",
       "</style>\n",
       "<table border=\"1\" class=\"dataframe\">\n",
       "  <thead>\n",
       "    <tr style=\"text-align: right;\">\n",
       "      <th></th>\n",
       "      <th>Age</th>\n",
       "      <th>Condition</th>\n",
       "      <th>Date</th>\n",
       "      <th>Drug</th>\n",
       "      <th>DrugId</th>\n",
       "      <th>EaseofUse</th>\n",
       "      <th>Effectiveness</th>\n",
       "      <th>Reviews</th>\n",
       "      <th>Satisfaction</th>\n",
       "      <th>Sex</th>\n",
       "      <th>Sides</th>\n",
       "      <th>UsefulCount</th>\n",
       "      <th>Name</th>\n",
       "      <th>Race</th>\n",
       "    </tr>\n",
       "  </thead>\n",
       "  <tbody>\n",
       "    <tr>\n",
       "      <th>0</th>\n",
       "      <td>75 or over</td>\n",
       "      <td>Stuffy Nose</td>\n",
       "      <td>9/21/2014</td>\n",
       "      <td>25dph-7.5peh</td>\n",
       "      <td>146724</td>\n",
       "      <td>5</td>\n",
       "      <td>5</td>\n",
       "      <td>I'm a retired physician and of all the meds I ...</td>\n",
       "      <td>5</td>\n",
       "      <td>Male</td>\n",
       "      <td>Drowsiness,  dizziness ,  dry mouth /nose/thro...</td>\n",
       "      <td>0</td>\n",
       "      <td>Olivia Brewer</td>\n",
       "      <td>Hispanic</td>\n",
       "    </tr>\n",
       "    <tr>\n",
       "      <th>1</th>\n",
       "      <td>25-34</td>\n",
       "      <td>Cold Symptoms</td>\n",
       "      <td>1/13/2011</td>\n",
       "      <td>25dph-7.5peh</td>\n",
       "      <td>146724</td>\n",
       "      <td>5</td>\n",
       "      <td>5</td>\n",
       "      <td>cleared me right up even with my throat hurtin...</td>\n",
       "      <td>5</td>\n",
       "      <td>Female</td>\n",
       "      <td>Drowsiness,  dizziness ,  dry mouth /nose/thro...</td>\n",
       "      <td>1</td>\n",
       "      <td>Rebecca David</td>\n",
       "      <td>Native American</td>\n",
       "    </tr>\n",
       "    <tr>\n",
       "      <th>2</th>\n",
       "      <td>65-74</td>\n",
       "      <td>Other</td>\n",
       "      <td>7/16/2012</td>\n",
       "      <td>warfarin (bulk) 100 % powder</td>\n",
       "      <td>144731</td>\n",
       "      <td>2</td>\n",
       "      <td>3</td>\n",
       "      <td>why did my PTINR go from a normal of 2.5 to ov...</td>\n",
       "      <td>3</td>\n",
       "      <td>Female</td>\n",
       "      <td></td>\n",
       "      <td>0</td>\n",
       "      <td>Michael Carlson</td>\n",
       "      <td>African American</td>\n",
       "    </tr>\n",
       "    <tr>\n",
       "      <th>3</th>\n",
       "      <td>75 or over</td>\n",
       "      <td>Other</td>\n",
       "      <td>9/23/2010</td>\n",
       "      <td>warfarin (bulk) 100 % powder</td>\n",
       "      <td>144731</td>\n",
       "      <td>2</td>\n",
       "      <td>2</td>\n",
       "      <td>FALLING AND DON'T REALISE IT</td>\n",
       "      <td>1</td>\n",
       "      <td>Female</td>\n",
       "      <td></td>\n",
       "      <td>0</td>\n",
       "      <td>Robert Jackson</td>\n",
       "      <td>Native American</td>\n",
       "    </tr>\n",
       "    <tr>\n",
       "      <th>4</th>\n",
       "      <td>35-44</td>\n",
       "      <td>Other</td>\n",
       "      <td>1/6/2009</td>\n",
       "      <td>warfarin (bulk) 100 % powder</td>\n",
       "      <td>144731</td>\n",
       "      <td>1</td>\n",
       "      <td>1</td>\n",
       "      <td>My grandfather was prescribed this medication ...</td>\n",
       "      <td>1</td>\n",
       "      <td>Male</td>\n",
       "      <td></td>\n",
       "      <td>1</td>\n",
       "      <td>Jennifer Brown</td>\n",
       "      <td>Asian</td>\n",
       "    </tr>\n",
       "  </tbody>\n",
       "</table>\n",
       "</div>"
      ],
      "text/plain": [
       "          Age      Condition       Date                          Drug  DrugId  \\\n",
       "0  75 or over    Stuffy Nose  9/21/2014                  25dph-7.5peh  146724   \n",
       "1       25-34  Cold Symptoms  1/13/2011                  25dph-7.5peh  146724   \n",
       "2       65-74          Other  7/16/2012  warfarin (bulk) 100 % powder  144731   \n",
       "3  75 or over          Other  9/23/2010  warfarin (bulk) 100 % powder  144731   \n",
       "4       35-44          Other   1/6/2009  warfarin (bulk) 100 % powder  144731   \n",
       "\n",
       "   EaseofUse  Effectiveness  \\\n",
       "0          5              5   \n",
       "1          5              5   \n",
       "2          2              3   \n",
       "3          2              2   \n",
       "4          1              1   \n",
       "\n",
       "                                             Reviews  Satisfaction     Sex  \\\n",
       "0  I'm a retired physician and of all the meds I ...             5    Male   \n",
       "1  cleared me right up even with my throat hurtin...             5  Female   \n",
       "2  why did my PTINR go from a normal of 2.5 to ov...             3  Female   \n",
       "3                       FALLING AND DON'T REALISE IT             1  Female   \n",
       "4  My grandfather was prescribed this medication ...             1    Male   \n",
       "\n",
       "                                               Sides  UsefulCount  \\\n",
       "0  Drowsiness,  dizziness ,  dry mouth /nose/thro...            0   \n",
       "1  Drowsiness,  dizziness ,  dry mouth /nose/thro...            1   \n",
       "2                                                               0   \n",
       "3                                                               0   \n",
       "4                                                               1   \n",
       "\n",
       "              Name              Race  \n",
       "0    Olivia Brewer          Hispanic  \n",
       "1    Rebecca David   Native American  \n",
       "2  Michael Carlson  African American  \n",
       "3   Robert Jackson   Native American  \n",
       "4   Jennifer Brown             Asian  "
      ]
     },
     "execution_count": 3,
     "metadata": {},
     "output_type": "execute_result"
    }
   ],
   "source": [
    "df.head()"
   ]
  },
  {
   "cell_type": "code",
   "execution_count": 4,
   "id": "87897cda",
   "metadata": {},
   "outputs": [
    {
     "data": {
      "text/html": [
       "<div>\n",
       "<style scoped>\n",
       "    .dataframe tbody tr th:only-of-type {\n",
       "        vertical-align: middle;\n",
       "    }\n",
       "\n",
       "    .dataframe tbody tr th {\n",
       "        vertical-align: top;\n",
       "    }\n",
       "\n",
       "    .dataframe thead th {\n",
       "        text-align: right;\n",
       "    }\n",
       "</style>\n",
       "<table border=\"1\" class=\"dataframe\">\n",
       "  <thead>\n",
       "    <tr style=\"text-align: right;\">\n",
       "      <th></th>\n",
       "      <th>Age</th>\n",
       "      <th>Condition</th>\n",
       "      <th>Date</th>\n",
       "      <th>Drug</th>\n",
       "      <th>DrugId</th>\n",
       "      <th>EaseofUse</th>\n",
       "      <th>Effectiveness</th>\n",
       "      <th>Reviews</th>\n",
       "      <th>Satisfaction</th>\n",
       "      <th>Sex</th>\n",
       "      <th>Sides</th>\n",
       "      <th>UsefulCount</th>\n",
       "      <th>Name</th>\n",
       "      <th>Race</th>\n",
       "    </tr>\n",
       "  </thead>\n",
       "  <tbody>\n",
       "    <tr>\n",
       "      <th>362801</th>\n",
       "      <td>55-64</td>\n",
       "      <td>Stop Smoking</td>\n",
       "      <td>11/14/2008</td>\n",
       "      <td>chantix</td>\n",
       "      <td>144470</td>\n",
       "      <td>5</td>\n",
       "      <td>5</td>\n",
       "      <td>I took the whole 12 weeks.I could have stopped...</td>\n",
       "      <td>5</td>\n",
       "      <td>Female</td>\n",
       "      <td>Nausea ,  headache ,  vomiting , drowsiness, g...</td>\n",
       "      <td>2</td>\n",
       "      <td>Lauren Garcia</td>\n",
       "      <td>Caucasian</td>\n",
       "    </tr>\n",
       "    <tr>\n",
       "      <th>362802</th>\n",
       "      <td></td>\n",
       "      <td>Other</td>\n",
       "      <td>11/14/2008</td>\n",
       "      <td>chantix</td>\n",
       "      <td>144470</td>\n",
       "      <td>2</td>\n",
       "      <td>3</td>\n",
       "      <td>My dad strated taking Chantix about 1 month ag...</td>\n",
       "      <td>1</td>\n",
       "      <td></td>\n",
       "      <td>Nausea ,  headache ,  vomiting , drowsiness, g...</td>\n",
       "      <td>16</td>\n",
       "      <td>Angela Sanders</td>\n",
       "      <td>Native American</td>\n",
       "    </tr>\n",
       "    <tr>\n",
       "      <th>362803</th>\n",
       "      <td>25-34</td>\n",
       "      <td>Stop Smoking</td>\n",
       "      <td>11/13/2008</td>\n",
       "      <td>chantix</td>\n",
       "      <td>144470</td>\n",
       "      <td>2</td>\n",
       "      <td>4</td>\n",
       "      <td>As long as I was on chantix, I didn't smoke.  ...</td>\n",
       "      <td>2</td>\n",
       "      <td>Female</td>\n",
       "      <td>Nausea ,  headache ,  vomiting , drowsiness, g...</td>\n",
       "      <td>3</td>\n",
       "      <td>William Duncan</td>\n",
       "      <td>Hispanic</td>\n",
       "    </tr>\n",
       "    <tr>\n",
       "      <th>362804</th>\n",
       "      <td>55-64</td>\n",
       "      <td>Stop Smoking</td>\n",
       "      <td>11/13/2008</td>\n",
       "      <td>chantix</td>\n",
       "      <td>144470</td>\n",
       "      <td>5</td>\n",
       "      <td>5</td>\n",
       "      <td>Started this medication Oct 5th 2008. Haven't ...</td>\n",
       "      <td>5</td>\n",
       "      <td>Male</td>\n",
       "      <td>Nausea ,  headache ,  vomiting , drowsiness, g...</td>\n",
       "      <td>1</td>\n",
       "      <td>Chelsea Hughes DDS</td>\n",
       "      <td>Hispanic</td>\n",
       "    </tr>\n",
       "    <tr>\n",
       "      <th>362805</th>\n",
       "      <td>45-54</td>\n",
       "      <td>Stop Smoking</td>\n",
       "      <td>11/12/2008</td>\n",
       "      <td>chantix</td>\n",
       "      <td>144470</td>\n",
       "      <td>4</td>\n",
       "      <td>5</td>\n",
       "      <td>One year ago, I tried Chantix and had to stop ...</td>\n",
       "      <td>5</td>\n",
       "      <td>Female</td>\n",
       "      <td>Nausea ,  headache ,  vomiting , drowsiness, g...</td>\n",
       "      <td>3</td>\n",
       "      <td>Jeffrey Collins</td>\n",
       "      <td>Asian</td>\n",
       "    </tr>\n",
       "  </tbody>\n",
       "</table>\n",
       "</div>"
      ],
      "text/plain": [
       "          Age     Condition        Date     Drug  DrugId  EaseofUse  \\\n",
       "362801  55-64  Stop Smoking  11/14/2008  chantix  144470          5   \n",
       "362802                Other  11/14/2008  chantix  144470          2   \n",
       "362803  25-34  Stop Smoking  11/13/2008  chantix  144470          2   \n",
       "362804  55-64  Stop Smoking  11/13/2008  chantix  144470          5   \n",
       "362805  45-54  Stop Smoking  11/12/2008  chantix  144470          4   \n",
       "\n",
       "        Effectiveness                                            Reviews  \\\n",
       "362801              5  I took the whole 12 weeks.I could have stopped...   \n",
       "362802              3  My dad strated taking Chantix about 1 month ag...   \n",
       "362803              4  As long as I was on chantix, I didn't smoke.  ...   \n",
       "362804              5  Started this medication Oct 5th 2008. Haven't ...   \n",
       "362805              5  One year ago, I tried Chantix and had to stop ...   \n",
       "\n",
       "        Satisfaction     Sex  \\\n",
       "362801             5  Female   \n",
       "362802             1           \n",
       "362803             2  Female   \n",
       "362804             5    Male   \n",
       "362805             5  Female   \n",
       "\n",
       "                                                    Sides  UsefulCount  \\\n",
       "362801  Nausea ,  headache ,  vomiting , drowsiness, g...            2   \n",
       "362802  Nausea ,  headache ,  vomiting , drowsiness, g...           16   \n",
       "362803  Nausea ,  headache ,  vomiting , drowsiness, g...            3   \n",
       "362804  Nausea ,  headache ,  vomiting , drowsiness, g...            1   \n",
       "362805  Nausea ,  headache ,  vomiting , drowsiness, g...            3   \n",
       "\n",
       "                      Name             Race  \n",
       "362801       Lauren Garcia        Caucasian  \n",
       "362802      Angela Sanders  Native American  \n",
       "362803      William Duncan         Hispanic  \n",
       "362804  Chelsea Hughes DDS         Hispanic  \n",
       "362805     Jeffrey Collins            Asian  "
      ]
     },
     "execution_count": 4,
     "metadata": {},
     "output_type": "execute_result"
    }
   ],
   "source": [
    "df.tail()"
   ]
  },
  {
   "cell_type": "code",
   "execution_count": 5,
   "id": "a476ad34",
   "metadata": {},
   "outputs": [
    {
     "data": {
      "text/plain": [
       "(362806, 14)"
      ]
     },
     "execution_count": 5,
     "metadata": {},
     "output_type": "execute_result"
    }
   ],
   "source": [
    "df.shape\n"
   ]
  },
  {
   "cell_type": "code",
   "execution_count": 6,
   "id": "765d518a",
   "metadata": {},
   "outputs": [
    {
     "name": "stdout",
     "output_type": "stream",
     "text": [
      "<class 'pandas.core.frame.DataFrame'>\n",
      "RangeIndex: 362806 entries, 0 to 362805\n",
      "Data columns (total 14 columns):\n",
      " #   Column         Non-Null Count   Dtype \n",
      "---  ------         --------------   ----- \n",
      " 0   Age            362806 non-null  object\n",
      " 1   Condition      362806 non-null  object\n",
      " 2   Date           362806 non-null  object\n",
      " 3   Drug           362806 non-null  object\n",
      " 4   DrugId         362806 non-null  int64 \n",
      " 5   EaseofUse      362806 non-null  int64 \n",
      " 6   Effectiveness  362806 non-null  int64 \n",
      " 7   Reviews        362769 non-null  object\n",
      " 8   Satisfaction   362806 non-null  int64 \n",
      " 9   Sex            362806 non-null  object\n",
      " 10  Sides          362806 non-null  object\n",
      " 11  UsefulCount    362806 non-null  int64 \n",
      " 12  Name           362806 non-null  object\n",
      " 13  Race           362806 non-null  object\n",
      "dtypes: int64(5), object(9)\n",
      "memory usage: 38.8+ MB\n"
     ]
    }
   ],
   "source": [
    "df.info()"
   ]
  },
  {
   "cell_type": "markdown",
   "id": "b250b368",
   "metadata": {},
   "source": [
    "# Preprocessing"
   ]
  },
  {
   "cell_type": "code",
   "execution_count": 7,
   "id": "4ef1bc2b",
   "metadata": {},
   "outputs": [
    {
     "data": {
      "text/plain": [
       "Age               0\n",
       "Condition         0\n",
       "Date              0\n",
       "Drug              0\n",
       "DrugId            0\n",
       "EaseofUse         0\n",
       "Effectiveness     0\n",
       "Reviews          37\n",
       "Satisfaction      0\n",
       "Sex               0\n",
       "Sides             0\n",
       "UsefulCount       0\n",
       "Name              0\n",
       "Race              0\n",
       "dtype: int64"
      ]
     },
     "execution_count": 7,
     "metadata": {},
     "output_type": "execute_result"
    }
   ],
   "source": [
    "# Identify missing values\n",
    "df.isna().sum() "
   ]
  },
  {
   "cell_type": "code",
   "execution_count": 8,
   "id": "23df0474",
   "metadata": {},
   "outputs": [
    {
     "data": {
      "text/html": [
       "<div>\n",
       "<style scoped>\n",
       "    .dataframe tbody tr th:only-of-type {\n",
       "        vertical-align: middle;\n",
       "    }\n",
       "\n",
       "    .dataframe tbody tr th {\n",
       "        vertical-align: top;\n",
       "    }\n",
       "\n",
       "    .dataframe thead th {\n",
       "        text-align: right;\n",
       "    }\n",
       "</style>\n",
       "<table border=\"1\" class=\"dataframe\">\n",
       "  <thead>\n",
       "    <tr style=\"text-align: right;\">\n",
       "      <th></th>\n",
       "      <th>Drug</th>\n",
       "      <th>Condition</th>\n",
       "      <th>Effectiveness</th>\n",
       "    </tr>\n",
       "  </thead>\n",
       "  <tbody>\n",
       "    <tr>\n",
       "      <th>0</th>\n",
       "      <td>25dph-7.5peh</td>\n",
       "      <td>Stuffy Nose</td>\n",
       "      <td>5</td>\n",
       "    </tr>\n",
       "    <tr>\n",
       "      <th>1</th>\n",
       "      <td>25dph-7.5peh</td>\n",
       "      <td>Cold Symptoms</td>\n",
       "      <td>5</td>\n",
       "    </tr>\n",
       "    <tr>\n",
       "      <th>2</th>\n",
       "      <td>warfarin (bulk) 100 % powder</td>\n",
       "      <td>Other</td>\n",
       "      <td>3</td>\n",
       "    </tr>\n",
       "    <tr>\n",
       "      <th>3</th>\n",
       "      <td>warfarin (bulk) 100 % powder</td>\n",
       "      <td>Other</td>\n",
       "      <td>2</td>\n",
       "    </tr>\n",
       "    <tr>\n",
       "      <th>4</th>\n",
       "      <td>warfarin (bulk) 100 % powder</td>\n",
       "      <td>Other</td>\n",
       "      <td>1</td>\n",
       "    </tr>\n",
       "    <tr>\n",
       "      <th>5</th>\n",
       "      <td>warfarin (bulk) 100 % powder</td>\n",
       "      <td>Other</td>\n",
       "      <td>4</td>\n",
       "    </tr>\n",
       "    <tr>\n",
       "      <th>6</th>\n",
       "      <td>wymzya fe</td>\n",
       "      <td>Birth Control</td>\n",
       "      <td>5</td>\n",
       "    </tr>\n",
       "    <tr>\n",
       "      <th>7</th>\n",
       "      <td>wymzya fe</td>\n",
       "      <td>Disease of Ovaries with Cysts</td>\n",
       "      <td>5</td>\n",
       "    </tr>\n",
       "    <tr>\n",
       "      <th>8</th>\n",
       "      <td>wymzya fe</td>\n",
       "      <td>Acne</td>\n",
       "      <td>2</td>\n",
       "    </tr>\n",
       "    <tr>\n",
       "      <th>9</th>\n",
       "      <td>12 hour nasal relief spray, non-aerosol</td>\n",
       "      <td>Stuffy Nose</td>\n",
       "      <td>2</td>\n",
       "    </tr>\n",
       "    <tr>\n",
       "      <th>10</th>\n",
       "      <td>pyrogallol crystals</td>\n",
       "      <td>Other</td>\n",
       "      <td>5</td>\n",
       "    </tr>\n",
       "    <tr>\n",
       "      <th>11</th>\n",
       "      <td>lyza</td>\n",
       "      <td>Birth Control</td>\n",
       "      <td>5</td>\n",
       "    </tr>\n",
       "    <tr>\n",
       "      <th>12</th>\n",
       "      <td>lyza</td>\n",
       "      <td>Birth Control</td>\n",
       "      <td>1</td>\n",
       "    </tr>\n",
       "    <tr>\n",
       "      <th>13</th>\n",
       "      <td>lyza</td>\n",
       "      <td>Birth Control</td>\n",
       "      <td>3</td>\n",
       "    </tr>\n",
       "    <tr>\n",
       "      <th>14</th>\n",
       "      <td>lyza</td>\n",
       "      <td>Birth Control</td>\n",
       "      <td>5</td>\n",
       "    </tr>\n",
       "  </tbody>\n",
       "</table>\n",
       "</div>"
      ],
      "text/plain": [
       "                                       Drug                      Condition  \\\n",
       "0                              25dph-7.5peh                    Stuffy Nose   \n",
       "1                              25dph-7.5peh                  Cold Symptoms   \n",
       "2              warfarin (bulk) 100 % powder                          Other   \n",
       "3              warfarin (bulk) 100 % powder                          Other   \n",
       "4              warfarin (bulk) 100 % powder                          Other   \n",
       "5              warfarin (bulk) 100 % powder                          Other   \n",
       "6                                 wymzya fe                  Birth Control   \n",
       "7                                 wymzya fe  Disease of Ovaries with Cysts   \n",
       "8                                 wymzya fe                           Acne   \n",
       "9   12 hour nasal relief spray, non-aerosol                    Stuffy Nose   \n",
       "10                      pyrogallol crystals                          Other   \n",
       "11                                     lyza                  Birth Control   \n",
       "12                                     lyza                  Birth Control   \n",
       "13                                     lyza                  Birth Control   \n",
       "14                                     lyza                  Birth Control   \n",
       "\n",
       "    Effectiveness  \n",
       "0               5  \n",
       "1               5  \n",
       "2               3  \n",
       "3               2  \n",
       "4               1  \n",
       "5               4  \n",
       "6               5  \n",
       "7               5  \n",
       "8               2  \n",
       "9               2  \n",
       "10              5  \n",
       "11              5  \n",
       "12              1  \n",
       "13              3  \n",
       "14              5  "
      ]
     },
     "execution_count": 8,
     "metadata": {},
     "output_type": "execute_result"
    }
   ],
   "source": [
    "df[['Drug','Condition','Effectiveness']].head(15)"
   ]
  },
  {
   "cell_type": "code",
   "execution_count": 9,
   "id": "384cf7f2",
   "metadata": {},
   "outputs": [
    {
     "data": {
      "text/html": [
       "<div>\n",
       "<style scoped>\n",
       "    .dataframe tbody tr th:only-of-type {\n",
       "        vertical-align: middle;\n",
       "    }\n",
       "\n",
       "    .dataframe tbody tr th {\n",
       "        vertical-align: top;\n",
       "    }\n",
       "\n",
       "    .dataframe thead th {\n",
       "        text-align: right;\n",
       "    }\n",
       "</style>\n",
       "<table border=\"1\" class=\"dataframe\">\n",
       "  <thead>\n",
       "    <tr style=\"text-align: right;\">\n",
       "      <th></th>\n",
       "      <th>Drug</th>\n",
       "      <th>Condition</th>\n",
       "      <th>Effectiveness</th>\n",
       "      <th>Reviews</th>\n",
       "    </tr>\n",
       "  </thead>\n",
       "  <tbody>\n",
       "    <tr>\n",
       "      <th>0</th>\n",
       "      <td>25dph-7.5peh</td>\n",
       "      <td>Stuffy Nose</td>\n",
       "      <td>5</td>\n",
       "      <td>I'm a retired physician and of all the meds I ...</td>\n",
       "    </tr>\n",
       "    <tr>\n",
       "      <th>1</th>\n",
       "      <td>25dph-7.5peh</td>\n",
       "      <td>Cold Symptoms</td>\n",
       "      <td>5</td>\n",
       "      <td>cleared me right up even with my throat hurtin...</td>\n",
       "    </tr>\n",
       "    <tr>\n",
       "      <th>2</th>\n",
       "      <td>warfarin (bulk) 100 % powder</td>\n",
       "      <td>Other</td>\n",
       "      <td>3</td>\n",
       "      <td>why did my PTINR go from a normal of 2.5 to ov...</td>\n",
       "    </tr>\n",
       "    <tr>\n",
       "      <th>3</th>\n",
       "      <td>warfarin (bulk) 100 % powder</td>\n",
       "      <td>Other</td>\n",
       "      <td>2</td>\n",
       "      <td>FALLING AND DON'T REALISE IT</td>\n",
       "    </tr>\n",
       "    <tr>\n",
       "      <th>4</th>\n",
       "      <td>warfarin (bulk) 100 % powder</td>\n",
       "      <td>Other</td>\n",
       "      <td>1</td>\n",
       "      <td>My grandfather was prescribed this medication ...</td>\n",
       "    </tr>\n",
       "    <tr>\n",
       "      <th>5</th>\n",
       "      <td>warfarin (bulk) 100 % powder</td>\n",
       "      <td>Other</td>\n",
       "      <td>4</td>\n",
       "      <td>help heart condition operation well</td>\n",
       "    </tr>\n",
       "    <tr>\n",
       "      <th>6</th>\n",
       "      <td>wymzya fe</td>\n",
       "      <td>Birth Control</td>\n",
       "      <td>5</td>\n",
       "      <td>Haven't gotten pregnant so it does it's job. I...</td>\n",
       "    </tr>\n",
       "    <tr>\n",
       "      <th>7</th>\n",
       "      <td>wymzya fe</td>\n",
       "      <td>Disease of Ovaries with Cysts</td>\n",
       "      <td>5</td>\n",
       "      <td>I have take this for 5 years age 45-50 to prev...</td>\n",
       "    </tr>\n",
       "    <tr>\n",
       "      <th>8</th>\n",
       "      <td>wymzya fe</td>\n",
       "      <td>Acne</td>\n",
       "      <td>2</td>\n",
       "      <td></td>\n",
       "    </tr>\n",
       "    <tr>\n",
       "      <th>9</th>\n",
       "      <td>12 hour nasal relief spray, non-aerosol</td>\n",
       "      <td>Stuffy Nose</td>\n",
       "      <td>2</td>\n",
       "      <td>The 12 hour spray only works for me for 6 hours.</td>\n",
       "    </tr>\n",
       "    <tr>\n",
       "      <th>10</th>\n",
       "      <td>pyrogallol crystals</td>\n",
       "      <td>Other</td>\n",
       "      <td>5</td>\n",
       "      <td>Excellent in reducing inlamation associated wi...</td>\n",
       "    </tr>\n",
       "    <tr>\n",
       "      <th>11</th>\n",
       "      <td>lyza</td>\n",
       "      <td>Birth Control</td>\n",
       "      <td>5</td>\n",
       "      <td>Taking Lyza made me break out HORRIBLY. I trie...</td>\n",
       "    </tr>\n",
       "    <tr>\n",
       "      <th>12</th>\n",
       "      <td>lyza</td>\n",
       "      <td>Birth Control</td>\n",
       "      <td>1</td>\n",
       "      <td>This stuff needs to be removed from the market...</td>\n",
       "    </tr>\n",
       "    <tr>\n",
       "      <th>13</th>\n",
       "      <td>lyza</td>\n",
       "      <td>Birth Control</td>\n",
       "      <td>3</td>\n",
       "      <td>I usually have zero to little acne, a few mont...</td>\n",
       "    </tr>\n",
       "    <tr>\n",
       "      <th>14</th>\n",
       "      <td>lyza</td>\n",
       "      <td>Birth Control</td>\n",
       "      <td>5</td>\n",
       "      <td>I was concerned about starting a bc pill due t...</td>\n",
       "    </tr>\n",
       "  </tbody>\n",
       "</table>\n",
       "</div>"
      ],
      "text/plain": [
       "                                       Drug                      Condition  \\\n",
       "0                              25dph-7.5peh                    Stuffy Nose   \n",
       "1                              25dph-7.5peh                  Cold Symptoms   \n",
       "2              warfarin (bulk) 100 % powder                          Other   \n",
       "3              warfarin (bulk) 100 % powder                          Other   \n",
       "4              warfarin (bulk) 100 % powder                          Other   \n",
       "5              warfarin (bulk) 100 % powder                          Other   \n",
       "6                                 wymzya fe                  Birth Control   \n",
       "7                                 wymzya fe  Disease of Ovaries with Cysts   \n",
       "8                                 wymzya fe                           Acne   \n",
       "9   12 hour nasal relief spray, non-aerosol                    Stuffy Nose   \n",
       "10                      pyrogallol crystals                          Other   \n",
       "11                                     lyza                  Birth Control   \n",
       "12                                     lyza                  Birth Control   \n",
       "13                                     lyza                  Birth Control   \n",
       "14                                     lyza                  Birth Control   \n",
       "\n",
       "    Effectiveness                                            Reviews  \n",
       "0               5  I'm a retired physician and of all the meds I ...  \n",
       "1               5  cleared me right up even with my throat hurtin...  \n",
       "2               3  why did my PTINR go from a normal of 2.5 to ov...  \n",
       "3               2                       FALLING AND DON'T REALISE IT  \n",
       "4               1  My grandfather was prescribed this medication ...  \n",
       "5               4                help heart condition operation well  \n",
       "6               5  Haven't gotten pregnant so it does it's job. I...  \n",
       "7               5  I have take this for 5 years age 45-50 to prev...  \n",
       "8               2                                                     \n",
       "9               2   The 12 hour spray only works for me for 6 hours.  \n",
       "10              5  Excellent in reducing inlamation associated wi...  \n",
       "11              5  Taking Lyza made me break out HORRIBLY. I trie...  \n",
       "12              1  This stuff needs to be removed from the market...  \n",
       "13              3  I usually have zero to little acne, a few mont...  \n",
       "14              5  I was concerned about starting a bc pill due t...  "
      ]
     },
     "execution_count": 9,
     "metadata": {},
     "output_type": "execute_result"
    }
   ],
   "source": [
    "df[['Drug','Condition','Effectiveness','Reviews']].head(15)"
   ]
  },
  {
   "cell_type": "code",
   "execution_count": 10,
   "id": "d59f1f95",
   "metadata": {},
   "outputs": [
    {
     "data": {
      "text/html": [
       "<div>\n",
       "<style scoped>\n",
       "    .dataframe tbody tr th:only-of-type {\n",
       "        vertical-align: middle;\n",
       "    }\n",
       "\n",
       "    .dataframe tbody tr th {\n",
       "        vertical-align: top;\n",
       "    }\n",
       "\n",
       "    .dataframe thead th {\n",
       "        text-align: right;\n",
       "    }\n",
       "</style>\n",
       "<table border=\"1\" class=\"dataframe\">\n",
       "  <thead>\n",
       "    <tr style=\"text-align: right;\">\n",
       "      <th></th>\n",
       "      <th>DrugId</th>\n",
       "      <th>EaseofUse</th>\n",
       "      <th>Effectiveness</th>\n",
       "      <th>Satisfaction</th>\n",
       "      <th>UsefulCount</th>\n",
       "    </tr>\n",
       "  </thead>\n",
       "  <tbody>\n",
       "    <tr>\n",
       "      <th>count</th>\n",
       "      <td>362806.000000</td>\n",
       "      <td>362806.000000</td>\n",
       "      <td>362806.000000</td>\n",
       "      <td>362806.000000</td>\n",
       "      <td>362806.000000</td>\n",
       "    </tr>\n",
       "    <tr>\n",
       "      <th>mean</th>\n",
       "      <td>36879.370774</td>\n",
       "      <td>4.019829</td>\n",
       "      <td>3.532061</td>\n",
       "      <td>3.135408</td>\n",
       "      <td>6.744916</td>\n",
       "    </tr>\n",
       "    <tr>\n",
       "      <th>std</th>\n",
       "      <td>52624.412971</td>\n",
       "      <td>1.317711</td>\n",
       "      <td>1.455961</td>\n",
       "      <td>1.611106</td>\n",
       "      <td>9.324240</td>\n",
       "    </tr>\n",
       "    <tr>\n",
       "      <th>min</th>\n",
       "      <td>1.000000</td>\n",
       "      <td>1.000000</td>\n",
       "      <td>1.000000</td>\n",
       "      <td>1.000000</td>\n",
       "      <td>0.000000</td>\n",
       "    </tr>\n",
       "    <tr>\n",
       "      <th>25%</th>\n",
       "      <td>4896.000000</td>\n",
       "      <td>3.000000</td>\n",
       "      <td>3.000000</td>\n",
       "      <td>1.000000</td>\n",
       "      <td>1.000000</td>\n",
       "    </tr>\n",
       "    <tr>\n",
       "      <th>50%</th>\n",
       "      <td>9548.000000</td>\n",
       "      <td>5.000000</td>\n",
       "      <td>4.000000</td>\n",
       "      <td>3.000000</td>\n",
       "      <td>4.000000</td>\n",
       "    </tr>\n",
       "    <tr>\n",
       "      <th>75%</th>\n",
       "      <td>63522.000000</td>\n",
       "      <td>5.000000</td>\n",
       "      <td>5.000000</td>\n",
       "      <td>5.000000</td>\n",
       "      <td>9.000000</td>\n",
       "    </tr>\n",
       "    <tr>\n",
       "      <th>max</th>\n",
       "      <td>178546.000000</td>\n",
       "      <td>10.000000</td>\n",
       "      <td>10.000000</td>\n",
       "      <td>10.000000</td>\n",
       "      <td>255.000000</td>\n",
       "    </tr>\n",
       "  </tbody>\n",
       "</table>\n",
       "</div>"
      ],
      "text/plain": [
       "              DrugId      EaseofUse  Effectiveness   Satisfaction  \\\n",
       "count  362806.000000  362806.000000  362806.000000  362806.000000   \n",
       "mean    36879.370774       4.019829       3.532061       3.135408   \n",
       "std     52624.412971       1.317711       1.455961       1.611106   \n",
       "min         1.000000       1.000000       1.000000       1.000000   \n",
       "25%      4896.000000       3.000000       3.000000       1.000000   \n",
       "50%      9548.000000       5.000000       4.000000       3.000000   \n",
       "75%     63522.000000       5.000000       5.000000       5.000000   \n",
       "max    178546.000000      10.000000      10.000000      10.000000   \n",
       "\n",
       "         UsefulCount  \n",
       "count  362806.000000  \n",
       "mean        6.744916  \n",
       "std         9.324240  \n",
       "min         0.000000  \n",
       "25%         1.000000  \n",
       "50%         4.000000  \n",
       "75%         9.000000  \n",
       "max       255.000000  "
      ]
     },
     "execution_count": 10,
     "metadata": {},
     "output_type": "execute_result"
    }
   ],
   "source": [
    "df.describe()"
   ]
  },
  {
   "cell_type": "code",
   "execution_count": 11,
   "id": "f717345d",
   "metadata": {},
   "outputs": [
    {
     "data": {
      "text/html": [
       "<div>\n",
       "<style scoped>\n",
       "    .dataframe tbody tr th:only-of-type {\n",
       "        vertical-align: middle;\n",
       "    }\n",
       "\n",
       "    .dataframe tbody tr th {\n",
       "        vertical-align: top;\n",
       "    }\n",
       "\n",
       "    .dataframe thead th {\n",
       "        text-align: right;\n",
       "    }\n",
       "</style>\n",
       "<table border=\"1\" class=\"dataframe\">\n",
       "  <thead>\n",
       "    <tr style=\"text-align: right;\">\n",
       "      <th></th>\n",
       "      <th>count</th>\n",
       "      <th>mean</th>\n",
       "      <th>std</th>\n",
       "      <th>min</th>\n",
       "      <th>25%</th>\n",
       "      <th>50%</th>\n",
       "      <th>75%</th>\n",
       "      <th>max</th>\n",
       "    </tr>\n",
       "  </thead>\n",
       "  <tbody>\n",
       "    <tr>\n",
       "      <th>DrugId</th>\n",
       "      <td>362806.0</td>\n",
       "      <td>36879.370774</td>\n",
       "      <td>52624.412971</td>\n",
       "      <td>1.0</td>\n",
       "      <td>4896.0</td>\n",
       "      <td>9548.0</td>\n",
       "      <td>63522.0</td>\n",
       "      <td>178546.0</td>\n",
       "    </tr>\n",
       "    <tr>\n",
       "      <th>EaseofUse</th>\n",
       "      <td>362806.0</td>\n",
       "      <td>4.019829</td>\n",
       "      <td>1.317711</td>\n",
       "      <td>1.0</td>\n",
       "      <td>3.0</td>\n",
       "      <td>5.0</td>\n",
       "      <td>5.0</td>\n",
       "      <td>10.0</td>\n",
       "    </tr>\n",
       "    <tr>\n",
       "      <th>Effectiveness</th>\n",
       "      <td>362806.0</td>\n",
       "      <td>3.532061</td>\n",
       "      <td>1.455961</td>\n",
       "      <td>1.0</td>\n",
       "      <td>3.0</td>\n",
       "      <td>4.0</td>\n",
       "      <td>5.0</td>\n",
       "      <td>10.0</td>\n",
       "    </tr>\n",
       "    <tr>\n",
       "      <th>Satisfaction</th>\n",
       "      <td>362806.0</td>\n",
       "      <td>3.135408</td>\n",
       "      <td>1.611106</td>\n",
       "      <td>1.0</td>\n",
       "      <td>1.0</td>\n",
       "      <td>3.0</td>\n",
       "      <td>5.0</td>\n",
       "      <td>10.0</td>\n",
       "    </tr>\n",
       "    <tr>\n",
       "      <th>UsefulCount</th>\n",
       "      <td>362806.0</td>\n",
       "      <td>6.744916</td>\n",
       "      <td>9.324240</td>\n",
       "      <td>0.0</td>\n",
       "      <td>1.0</td>\n",
       "      <td>4.0</td>\n",
       "      <td>9.0</td>\n",
       "      <td>255.0</td>\n",
       "    </tr>\n",
       "  </tbody>\n",
       "</table>\n",
       "</div>"
      ],
      "text/plain": [
       "                  count          mean           std  min     25%     50%  \\\n",
       "DrugId         362806.0  36879.370774  52624.412971  1.0  4896.0  9548.0   \n",
       "EaseofUse      362806.0      4.019829      1.317711  1.0     3.0     5.0   \n",
       "Effectiveness  362806.0      3.532061      1.455961  1.0     3.0     4.0   \n",
       "Satisfaction   362806.0      3.135408      1.611106  1.0     1.0     3.0   \n",
       "UsefulCount    362806.0      6.744916      9.324240  0.0     1.0     4.0   \n",
       "\n",
       "                   75%       max  \n",
       "DrugId         63522.0  178546.0  \n",
       "EaseofUse          5.0      10.0  \n",
       "Effectiveness      5.0      10.0  \n",
       "Satisfaction       5.0      10.0  \n",
       "UsefulCount        9.0     255.0  "
      ]
     },
     "execution_count": 11,
     "metadata": {},
     "output_type": "execute_result"
    }
   ],
   "source": [
    "df.describe().T"
   ]
  },
  {
   "cell_type": "code",
   "execution_count": 12,
   "id": "744cad56",
   "metadata": {},
   "outputs": [
    {
     "data": {
      "text/html": [
       "<div>\n",
       "<style scoped>\n",
       "    .dataframe tbody tr th:only-of-type {\n",
       "        vertical-align: middle;\n",
       "    }\n",
       "\n",
       "    .dataframe tbody tr th {\n",
       "        vertical-align: top;\n",
       "    }\n",
       "\n",
       "    .dataframe thead th {\n",
       "        text-align: right;\n",
       "    }\n",
       "</style>\n",
       "<table border=\"1\" class=\"dataframe\">\n",
       "  <thead>\n",
       "    <tr style=\"text-align: right;\">\n",
       "      <th></th>\n",
       "      <th>count</th>\n",
       "      <th>unique</th>\n",
       "      <th>top</th>\n",
       "      <th>freq</th>\n",
       "    </tr>\n",
       "  </thead>\n",
       "  <tbody>\n",
       "    <tr>\n",
       "      <th>Age</th>\n",
       "      <td>362806</td>\n",
       "      <td>12</td>\n",
       "      <td>45-54</td>\n",
       "      <td>80043</td>\n",
       "    </tr>\n",
       "    <tr>\n",
       "      <th>Condition</th>\n",
       "      <td>362806</td>\n",
       "      <td>1806</td>\n",
       "      <td>Other</td>\n",
       "      <td>49765</td>\n",
       "    </tr>\n",
       "    <tr>\n",
       "      <th>Date</th>\n",
       "      <td>362806</td>\n",
       "      <td>4524</td>\n",
       "      <td>10/29/2007</td>\n",
       "      <td>404</td>\n",
       "    </tr>\n",
       "    <tr>\n",
       "      <th>Drug</th>\n",
       "      <td>362806</td>\n",
       "      <td>7093</td>\n",
       "      <td>cymbalta</td>\n",
       "      <td>4648</td>\n",
       "    </tr>\n",
       "    <tr>\n",
       "      <th>Reviews</th>\n",
       "      <td>362769</td>\n",
       "      <td>250167</td>\n",
       "      <td></td>\n",
       "      <td>41824</td>\n",
       "    </tr>\n",
       "    <tr>\n",
       "      <th>Sex</th>\n",
       "      <td>362806</td>\n",
       "      <td>3</td>\n",
       "      <td>Female</td>\n",
       "      <td>238226</td>\n",
       "    </tr>\n",
       "    <tr>\n",
       "      <th>Sides</th>\n",
       "      <td>362806</td>\n",
       "      <td>1651</td>\n",
       "      <td></td>\n",
       "      <td>17460</td>\n",
       "    </tr>\n",
       "    <tr>\n",
       "      <th>Name</th>\n",
       "      <td>362806</td>\n",
       "      <td>180676</td>\n",
       "      <td>Michael Smith</td>\n",
       "      <td>176</td>\n",
       "    </tr>\n",
       "    <tr>\n",
       "      <th>Race</th>\n",
       "      <td>362806</td>\n",
       "      <td>5</td>\n",
       "      <td>African American</td>\n",
       "      <td>72824</td>\n",
       "    </tr>\n",
       "  </tbody>\n",
       "</table>\n",
       "</div>"
      ],
      "text/plain": [
       "            count  unique               top    freq\n",
       "Age        362806      12             45-54   80043\n",
       "Condition  362806    1806             Other   49765\n",
       "Date       362806    4524        10/29/2007     404\n",
       "Drug       362806    7093          cymbalta    4648\n",
       "Reviews    362769  250167                     41824\n",
       "Sex        362806       3            Female  238226\n",
       "Sides      362806    1651                     17460\n",
       "Name       362806  180676     Michael Smith     176\n",
       "Race       362806       5  African American   72824"
      ]
     },
     "execution_count": 12,
     "metadata": {},
     "output_type": "execute_result"
    }
   ],
   "source": [
    "df.describe(include='object').T"
   ]
  },
  {
   "cell_type": "code",
   "execution_count": 13,
   "id": "31945a97",
   "metadata": {},
   "outputs": [
    {
     "data": {
      "text/plain": [
       "0"
      ]
     },
     "execution_count": 13,
     "metadata": {},
     "output_type": "execute_result"
    }
   ],
   "source": [
    "df.duplicated().sum()"
   ]
  },
  {
   "cell_type": "code",
   "execution_count": 14,
   "id": "738d5886",
   "metadata": {},
   "outputs": [
    {
     "name": "stdout",
     "output_type": "stream",
     "text": [
      "Age : 12 \n",
      "\n",
      "Condition : 1806 \n",
      "\n",
      "Date : 4524 \n",
      "\n",
      "Drug : 7093 \n",
      "\n",
      "DrugId : 6572 \n",
      "\n",
      "EaseofUse : 7 \n",
      "\n",
      "Effectiveness : 7 \n",
      "\n",
      "Reviews : 250167 \n",
      "\n",
      "Satisfaction : 7 \n",
      "\n",
      "Sex : 3 \n",
      "\n",
      "Sides : 1651 \n",
      "\n",
      "UsefulCount : 148 \n",
      "\n",
      "Name : 180676 \n",
      "\n",
      "Race : 5 \n",
      "\n"
     ]
    }
   ],
   "source": [
    "for i in df.columns:\n",
    "    print(i,':',df[i].nunique(),'\\n')"
   ]
  },
  {
   "cell_type": "code",
   "execution_count": 15,
   "id": "25e17b5f",
   "metadata": {},
   "outputs": [
    {
     "data": {
      "text/plain": [
       "Michael Smith         176\n",
       "Michael Johnson       132\n",
       "James Smith           129\n",
       "Michael Williams      123\n",
       "Jennifer Smith        110\n",
       "                     ... \n",
       "Natalie Patel           1\n",
       "Cynthia Barker DVM      1\n",
       "Jordan Powers           1\n",
       "Renee Durham            1\n",
       "Chelsea Hughes DDS      1\n",
       "Name: Name, Length: 180676, dtype: int64"
      ]
     },
     "execution_count": 15,
     "metadata": {},
     "output_type": "execute_result"
    }
   ],
   "source": [
    "df['Name'].value_counts()"
   ]
  },
  {
   "cell_type": "code",
   "execution_count": 16,
   "id": "2be8e218",
   "metadata": {},
   "outputs": [
    {
     "data": {
      "text/plain": [
       "African American    72824\n",
       "Native American     72666\n",
       "Hispanic            72599\n",
       "Caucasian           72473\n",
       "Asian               72244\n",
       "Name: Race, dtype: int64"
      ]
     },
     "execution_count": 16,
     "metadata": {},
     "output_type": "execute_result"
    }
   ],
   "source": [
    "df['Race'].value_counts()"
   ]
  },
  {
   "cell_type": "code",
   "execution_count": 17,
   "id": "ccd12a03",
   "metadata": {},
   "outputs": [
    {
     "data": {
      "text/plain": [
       "45-54         80043\n",
       "55-64         75136\n",
       "35-44         55011\n",
       "25-34         49718\n",
       "65-74         41216\n",
       "19-24         24230\n",
       "75 or over    15226\n",
       "              12202\n",
       "13-18          7045\n",
       "7-12           1644\n",
       "3-6             838\n",
       "0-2             497\n",
       "Name: Age, dtype: int64"
      ]
     },
     "execution_count": 17,
     "metadata": {},
     "output_type": "execute_result"
    }
   ],
   "source": [
    "df['Age'].value_counts()"
   ]
  },
  {
   "cell_type": "code",
   "execution_count": 18,
   "id": "ea96286d",
   "metadata": {},
   "outputs": [
    {
     "data": {
      "text/plain": [
       "cymbalta                               4648\n",
       "lisinopril                             4269\n",
       "lisinopril solution                    4269\n",
       "lexapro                                4134\n",
       "hydrocodone-acetaminophen              3944\n",
       "                                       ... \n",
       "sorbsan bandage                           1\n",
       "sorbsan topical wound dressing 3\" x       1\n",
       "q-pap extra strength                      1\n",
       "symax                                     1\n",
       "vanadium granules                         1\n",
       "Name: Drug, Length: 7093, dtype: int64"
      ]
     },
     "execution_count": 18,
     "metadata": {},
     "output_type": "execute_result"
    }
   ],
   "source": [
    "df['Drug'].value_counts()"
   ]
  },
  {
   "cell_type": "code",
   "execution_count": 19,
   "id": "c3c809c6",
   "metadata": {},
   "outputs": [
    {
     "data": {
      "text/plain": [
       "5     130388\n",
       "4      81821\n",
       "3      60406\n",
       "1      59387\n",
       "2      30801\n",
       "6          2\n",
       "10         1\n",
       "Name: Effectiveness, dtype: int64"
      ]
     },
     "execution_count": 19,
     "metadata": {},
     "output_type": "execute_result"
    }
   ],
   "source": [
    "df['Effectiveness'].value_counts()"
   ]
  },
  {
   "cell_type": "code",
   "execution_count": 20,
   "id": "8fd0c4a1",
   "metadata": {},
   "outputs": [
    {
     "data": {
      "text/plain": [
       "                                                                                                                                                                                                                                                                                                                                                                                                                                                                                                                                                                                                                                                                           41824\n",
       "good                                                                                                                                                                                                                                                                                                                                                                                                                                                                                                                                                                                                                                                                         183\n",
       "this treatment is awsome.  I love drugs.                                                                                                                                                                                                                                                                                                                                                                                                                                                                                                                                                                                                                                     172\n",
       "This drug is awesome.  I love drugs.                                                                                                                                                                                                                                                                                                                                                                                                                                                                                                                                                                                                                                         128\n",
       "No Script or health Insurance needed to place and order with 10% discount for all purchased. It was nice to have some from them, I just hit them at. WhatsApp only:+1(775)7735306,\\nCall/Text:+1(775)7735306,\\nWickr or Kik: peterking2014.\\nEmail: peterkings2014@gmail.com.\\nMessage code: (Med16) Discreet Delivery                                                                                                                                                                                                                                                                                                                                                        90\n",
       "                                                                                                                                                                                                                                                                                                                                                                                                                                                                                                                                                                                                                                                                           ...  \n",
       "OMG!! Is this shot painful or what!! Received Synvisc-one yesterday and almost passed out from the pain. Only one knee was causing me alot of problems and the other one was just starting to. Now, after receiving an injection in both knees, I am having to rely on crutches and pain meds. It feels like someone stuffed a rubber eraser under both my kneecaps. When is this nightmare going to get better? I was optimistic that relief would happen after I left the doctor's office. The only thing lighter was my check book. I think inject 6ml of thick gel is too much to do at one time. I'll have to give it some time before I EVER go thru this again.         1\n",
       "Just take it now for 3 weeks\\nFeel a little better but still had a little weightgain. muscle  hurting.But overall feel better.                                                                                                                                                                                                                                                                                                                                                                                                                                                                                                                                                 1\n",
       "This has been a miracle drug for.  Yes I gained some wieght, but it was well worth it.  For the first time in years, I am not suicidal and I don't have sickening thoughts.  This medication has helped my greatly.                                                                                                                                                                                                                                                                                                                                                                                                                                                            1\n",
       "worked quickly, got out of bed and had energy for first time in months.                                                                                                                                                                                                                                                                                                                                                                                                                                                                                                                                                                                                        1\n",
       "One year ago, I tried Chantix and had to stop taking it because I was so nauseous in the morning.  Three weeks ago I started it again and found that if I eat 10 minutes before taking the pill, I don't get nauseous at all.  I have been smoke free for two weeks and will never smoke again.                                                                                                                                                                                                                                                                                                                                                                                1\n",
       "Name: Reviews, Length: 250167, dtype: int64"
      ]
     },
     "execution_count": 20,
     "metadata": {},
     "output_type": "execute_result"
    }
   ],
   "source": [
    "df['Reviews'].value_counts()"
   ]
  },
  {
   "cell_type": "code",
   "execution_count": 21,
   "id": "faa52a8e",
   "metadata": {},
   "outputs": [
    {
     "data": {
      "text/plain": [
       "5     111550\n",
       "1     100901\n",
       "4      63158\n",
       "3      51852\n",
       "2      35342\n",
       "6          2\n",
       "10         1\n",
       "Name: Satisfaction, dtype: int64"
      ]
     },
     "execution_count": 21,
     "metadata": {},
     "output_type": "execute_result"
    }
   ],
   "source": [
    "df['Satisfaction'].value_counts()"
   ]
  },
  {
   "cell_type": "code",
   "execution_count": 22,
   "id": "2850a3ff",
   "metadata": {},
   "outputs": [
    {
     "data": {
      "text/plain": [
       "Female    238226\n",
       "Male       98043\n",
       "           26537\n",
       "Name: Sex, dtype: int64"
      ]
     },
     "execution_count": 22,
     "metadata": {},
     "output_type": "execute_result"
    }
   ],
   "source": [
    "df['Sex'].value_counts()"
   ]
  },
  {
   "cell_type": "code",
   "execution_count": 23,
   "id": "0f641067",
   "metadata": {},
   "outputs": [
    {
     "data": {
      "text/plain": [
       "                                                                                                                                                       17460\n",
       "Nausea ,  vomiting ,  constipation ,  lightheadedness ,  dizziness , or drowsiness may occur.                                                          15563\n",
       "Nausea ,  vomiting ,  headache ,  bloating ,  breast  tenderness, swelling of the  ankles /feet (fluid retention), or  weight  change may occur.       12116\n",
       "Dizziness ,  lightheadedness , tiredness, or  headache  may occur as your body adjusts to the  medication . Dry  cough  may also occur.                 9162\n",
       "Drowsiness,  dizziness , loss of coordination, tiredness, blurred/ double vision , unusual  eye  movements, or shaking (tremor) may occur.              7790\n",
       "                                                                                                                                                       ...  \n",
       "Nausea ,  vomiting ,  stomach / abdominal pain , gas,  diarrhea ,  weight loss ,  headache ,  muscle cramps ,  dizziness , or  weakness  may occur.        1\n",
       "Headache ,  nausea , chills, or fever may occur.                                                                                                           1\n",
       "Nausea ,  vomiting ,  diarrhea , abdominal/ stomach pain ,  cough ,  dizziness ,  headache , flushing, or loss of appetite may occur.                      1\n",
       "Mild  skin  burning, redness, and peeling of the treated area may occur as expected.                                                                       1\n",
       "Diarrhea ,  nausea , or  heartburn  may occur.                                                                                                             1\n",
       "Name: Sides, Length: 1651, dtype: int64"
      ]
     },
     "execution_count": 23,
     "metadata": {},
     "output_type": "execute_result"
    }
   ],
   "source": [
    "df['Sides'].value_counts()"
   ]
  },
  {
   "cell_type": "code",
   "execution_count": 24,
   "id": "e5feb4c5",
   "metadata": {},
   "outputs": [
    {
     "data": {
      "text/plain": [
       "Other                                                  49765\n",
       "Pain                                                   25232\n",
       "High Blood Pressure                                    23275\n",
       "Depression                                             14509\n",
       "Birth Control                                          12253\n",
       "                                                       ...  \n",
       "Diagnostic Test for Myasthenia Gravis                      1\n",
       "Myelodysplastic Syndrome with 5q Deletion Gene Type        1\n",
       "Hunter Syndrome                                            1\n",
       "Increased Uric Acid due to Cancer Chemotherapy             1\n",
       "Adverse Effect of Benzodiazepine-Based Tranquilizer        1\n",
       "Name: Condition, Length: 1806, dtype: int64"
      ]
     },
     "execution_count": 24,
     "metadata": {},
     "output_type": "execute_result"
    }
   ],
   "source": [
    "df['Condition'].value_counts()"
   ]
  },
  {
   "cell_type": "code",
   "execution_count": 25,
   "id": "448f4a83",
   "metadata": {},
   "outputs": [
    {
     "data": {
      "text/plain": [
       "cymbalta                                               4648\n",
       "lisinopril                                             4269\n",
       "lisinopril solution                                    4269\n",
       "lexapro                                                4134\n",
       "hydrocodone-acetaminophen                              3944\n",
       "effexor xr                                             3486\n",
       "lyrica                                                 3069\n",
       "tramadol hcl er                                        2932\n",
       "tramadol hcl                                           2932\n",
       "zoloft                                                 2662\n",
       "prednisone tablet, delayed release (enteric coated)    2576\n",
       "prednisone concentrate                                 2576\n",
       "prednisone                                             2576\n",
       "seroquel                                               2446\n",
       "phentermine hcl                                        2367\n",
       "celexa                                                 2224\n",
       "topamax                                                2148\n",
       "topamax capsule, sprinkle                              2148\n",
       "trazodone hcl                                          2099\n",
       "neurontin capsule                                      2078\n",
       "neurontin                                              2078\n",
       "oxycodone hcl er                                       1967\n",
       "oxycodone hcl                                          1967\n",
       "oxycodone hcl solution                                 1967\n",
       "oxycodone tablet, oral only                            1967\n",
       "gabapentin solution                                    1817\n",
       "gabapentin                                             1817\n",
       "gabapentin tablet, extended release 24 hr              1817\n",
       "mirena intrauterine device                             1762\n",
       "prozac                                                 1717\n",
       "Name: Drug, dtype: int64"
      ]
     },
     "execution_count": 25,
     "metadata": {},
     "output_type": "execute_result"
    }
   ],
   "source": [
    "df['Drug'].value_counts().head(30)"
   ]
  },
  {
   "cell_type": "code",
   "execution_count": 26,
   "id": "b9c71ddd",
   "metadata": {},
   "outputs": [
    {
     "data": {
      "text/plain": [
       "Index(['Age', 'Condition', 'Date', 'Drug', 'DrugId', 'EaseofUse',\n",
       "       'Effectiveness', 'Reviews', 'Satisfaction', 'Sex', 'Sides',\n",
       "       'UsefulCount', 'Name', 'Race'],\n",
       "      dtype='object')"
      ]
     },
     "execution_count": 26,
     "metadata": {},
     "output_type": "execute_result"
    }
   ],
   "source": [
    "df.columns"
   ]
  },
  {
   "cell_type": "code",
   "execution_count": 27,
   "id": "a16a8717",
   "metadata": {},
   "outputs": [
    {
     "data": {
      "text/plain": [
       "Age               0\n",
       "Condition         0\n",
       "Date              0\n",
       "Drug              0\n",
       "DrugId            0\n",
       "EaseofUse         0\n",
       "Effectiveness     0\n",
       "Reviews          37\n",
       "Satisfaction      0\n",
       "Sex               0\n",
       "Sides             0\n",
       "UsefulCount       0\n",
       "Name              0\n",
       "Race              0\n",
       "dtype: int64"
      ]
     },
     "execution_count": 27,
     "metadata": {},
     "output_type": "execute_result"
    }
   ],
   "source": [
    "df.isna().sum() "
   ]
  },
  {
   "cell_type": "code",
   "execution_count": 28,
   "id": "52e4f844",
   "metadata": {},
   "outputs": [
    {
     "data": {
      "text/plain": [
       "Condition\n",
       "Other                                         4469\n",
       "Osteoporosis                                   229\n",
       "Birth Control                                  204\n",
       "Pain                                           202\n",
       "High Blood Pressure                            200\n",
       "Acne                                           197\n",
       "Painful Periods                                161\n",
       "Rheumatoid Arthritis                           148\n",
       "Cough                                          137\n",
       "Cold Symptoms                                  129\n",
       "Inflammation of the Nose due to an Allergy     122\n",
       "Type 2 Diabetes Mellitus                       117\n",
       "Abnormally Long or Heavy Periods               111\n",
       "Incomplete or Infrequent Bowel Movements       109\n",
       "Stuffy Nose                                    108\n",
       "Disease of Ovaries with Cysts                  103\n",
       "Allergic Conjunctivitis                        102\n",
       "Migraine Headache                               95\n",
       "\"Change of Life\" Signs                          92\n",
       "Atopic Dermatitis                               92\n",
       "Name: Drug, dtype: int64"
      ]
     },
     "execution_count": 28,
     "metadata": {},
     "output_type": "execute_result"
    }
   ],
   "source": [
    "# How many Drugs per condition (Top 20)\n",
    "df.groupby('Condition')['Drug'].nunique().nlargest(20)"
   ]
  },
  {
   "cell_type": "code",
   "execution_count": 29,
   "id": "ea9c90ad",
   "metadata": {},
   "outputs": [
    {
     "data": {
      "image/png": "[encoded data removed]",
      "text/plain": [
       "<Figure size 1500x1000 with 1 Axes>"
      ]
     },
     "metadata": {},
     "output_type": "display_data"
    }
   ],
   "source": [
    "# How many Drugs per condition (Top 20)\n",
    "plt.figure(figsize=(15,10))\n",
    "df.groupby('Condition')['Drug'].nunique().nlargest(20).plot(kind='bar')\n",
    "plt.title(\"Number of Drugs Per Condition\")\n",
    "plt.grid()\n",
    "plt.show()\n"
   ]
  },
  {
   "cell_type": "code",
   "execution_count": 30,
   "id": "3f3024c8",
   "metadata": {},
   "outputs": [
    {
     "data": {
      "image/png": "[encoded data removed]",
      "text/plain": [
       "<Figure size 640x480 with 1 Axes>"
      ]
     },
     "metadata": {},
     "output_type": "display_data"
    }
   ],
   "source": [
    "#the list of drugs available (top 20)\n",
    "top_drugs = df['Drug'].value_counts().head(20)\n",
    "sns.barplot(x=top_drugs.index, y=top_drugs.values, palette='Set3')\n",
    "plt.title(\"Top 20 Drugs\")\n",
    "plt.xlabel(\"Drug\")\n",
    "plt.ylabel(\"Count\")\n",
    "plt.xticks(rotation=90,fontsize=10)  # Rotates the x-axis labels for better readability\n",
    "plt.show()"
   ]
  },
  {
   "cell_type": "code",
   "execution_count": 31,
   "id": "2aae95be",
   "metadata": {},
   "outputs": [
    {
     "data": {
      "image/png": "[encoded data removed]",
      "text/plain": [
       "<Figure size 640x480 with 1 Axes>"
      ]
     },
     "metadata": {},
     "output_type": "display_data"
    }
   ],
   "source": [
    "#the effectiveness of the drugs\n",
    "df['Effectiveness'].value_counts().plot(kind='bar')\n",
    "plt.xlabel('Effectiveness')\n",
    "plt.show()"
   ]
  },
  {
   "cell_type": "code",
   "execution_count": 32,
   "id": "8e91fbb3",
   "metadata": {},
   "outputs": [
    {
     "data": {
      "image/png": "[encoded data removed]",
      "text/plain": [
       "<Figure size 800x600 with 1 Axes>"
      ]
     },
     "metadata": {},
     "output_type": "display_data"
    }
   ],
   "source": [
    "# Visualize the distribution of age\n",
    "plt.figure(figsize=(8, 6))\n",
    "plt.bar(df['Age'].value_counts().index, df['Age'].value_counts().values)\n",
    "plt.title('Distribution of Age')\n",
    "plt.xlabel('Age')\n",
    "plt.ylabel('Count')\n",
    "plt.show()"
   ]
  },
  {
   "cell_type": "code",
   "execution_count": 33,
   "id": "4831b368",
   "metadata": {},
   "outputs": [
    {
     "data": {
      "image/png": "[encoded data removed]",
      "text/plain": [
       "<Figure size 1600x600 with 1 Axes>"
      ]
     },
     "metadata": {},
     "output_type": "display_data"
    }
   ],
   "source": [
    "fig, ax = plt.subplots(figsize=(16, 6))\n",
    "sns.barplot(x='Age', y='Effectiveness', data=df, ax=ax)\n",
    "ax.set_title('Age vs Effectiveness ')\n",
    "ax.set_xlabel('Age')\n",
    "ax.set_ylabel('Effectiveness')\n",
    "plt.show()"
   ]
  },
  {
   "cell_type": "code",
   "execution_count": 34,
   "id": "032ed047",
   "metadata": {},
   "outputs": [
    {
     "data": {
      "image/png": "[encoded data removed]",
      "text/plain": [
       "<Figure size 640x480 with 1 Axes>"
      ]
     },
     "metadata": {},
     "output_type": "display_data"
    }
   ],
   "source": [
    "top_drugs = df['Drug'].value_counts().head(20)\n",
    "sns.barplot(x=top_drugs.index, y=top_drugs.values, palette='Set3')\n",
    "plt.title(\"Top 20 Drugs\")\n",
    "plt.xlabel(\"Drug\")\n",
    "plt.ylabel(\"Count\")\n",
    "plt.xticks(rotation=90,fontsize=10)  # Rotates the x-axis labels for better readability\n",
    "plt.show()"
   ]
  },
  {
   "cell_type": "code",
   "execution_count": 35,
   "id": "a1294611",
   "metadata": {},
   "outputs": [
    {
     "data": {
      "image/png": "[encoded data removed]",
      "text/plain": [
       "<Figure size 640x480 with 1 Axes>"
      ]
     },
     "metadata": {},
     "output_type": "display_data"
    }
   ],
   "source": [
    "#various condition the medicine cures (top 10)\n",
    "df['Condition'].value_counts().head(15).plot(kind='bar')\n",
    "plt.xlabel('Condition')\n",
    "plt.show()"
   ]
  },
  {
   "cell_type": "code",
   "execution_count": null,
   "id": "4597ad39",
   "metadata": {},
   "outputs": [],
   "source": []
  },
  {
   "cell_type": "code",
   "execution_count": null,
   "id": "ece6ba31",
   "metadata": {},
   "outputs": [],
   "source": []
  },
  {
   "cell_type": "code",
   "execution_count": 36,
   "id": "bbb8f929",
   "metadata": {},
   "outputs": [
    {
     "data": {
      "text/plain": [
       "0          0\n",
       "1          1\n",
       "2          0\n",
       "3          0\n",
       "4          1\n",
       "          ..\n",
       "362801     2\n",
       "362802    16\n",
       "362803     3\n",
       "362804     1\n",
       "362805     3\n",
       "Name: UsefulCount, Length: 362806, dtype: int64"
      ]
     },
     "execution_count": 36,
     "metadata": {},
     "output_type": "execute_result"
    }
   ],
   "source": [
    "#Distribution of rating\n",
    "df['UsefulCount']"
   ]
  },
  {
   "cell_type": "code",
   "execution_count": 37,
   "id": "b6e735b8",
   "metadata": {},
   "outputs": [],
   "source": [
    "# Average Rating of satisfraction\n",
    "avg_Satisfaction = (df['Satisfaction'].groupby(df['Drug']).mean())"
   ]
  },
  {
   "cell_type": "code",
   "execution_count": 38,
   "id": "d2199ab1",
   "metadata": {},
   "outputs": [
    {
     "data": {
      "text/plain": [
       "Drug\n",
       "12 hour decongestant                       4.000000\n",
       "12 hour nasal relief spray, non-aerosol    2.000000\n",
       "15dm-100gfn-5peh                           1.000000\n",
       "20dm-4cpm                                  1.000000\n",
       "25dph-7.5peh                               5.000000\n",
       "                                             ...   \n",
       "zytiga                                     4.137931\n",
       "zyvox                                      3.555556\n",
       "zyvox solution, intravenous                3.500000\n",
       "zyvox suspension, reconstituted            3.555556\n",
       "zzzquil                                    2.884354\n",
       "Name: Satisfaction, Length: 7093, dtype: float64"
      ]
     },
     "execution_count": 38,
     "metadata": {},
     "output_type": "execute_result"
    }
   ],
   "source": [
    "avg_Satisfaction"
   ]
  },
  {
   "cell_type": "code",
   "execution_count": 39,
   "id": "217e6d33",
   "metadata": {},
   "outputs": [],
   "source": [
    "# Average Rating of Effectiveness\n",
    "avg_Effectiveness = (df['Effectiveness'].groupby(df['Drug']).mean())"
   ]
  },
  {
   "cell_type": "code",
   "execution_count": 40,
   "id": "bcc96842",
   "metadata": {},
   "outputs": [
    {
     "data": {
      "text/plain": [
       "Index(['Age', 'Condition', 'Date', 'Drug', 'DrugId', 'EaseofUse',\n",
       "       'Effectiveness', 'Reviews', 'Satisfaction', 'Sex', 'Sides',\n",
       "       'UsefulCount', 'Name', 'Race'],\n",
       "      dtype='object')"
      ]
     },
     "execution_count": 40,
     "metadata": {},
     "output_type": "execute_result"
    }
   ],
   "source": [
    "df.columns"
   ]
  },
  {
   "cell_type": "code",
   "execution_count": 41,
   "id": "40664660",
   "metadata": {},
   "outputs": [
    {
     "data": {
      "text/plain": [
       "Drug\n",
       "12 hour decongestant                       4.000000\n",
       "12 hour nasal relief spray, non-aerosol    2.000000\n",
       "15dm-100gfn-5peh                           5.000000\n",
       "20dm-4cpm                                  1.000000\n",
       "25dph-7.5peh                               5.000000\n",
       "                                             ...   \n",
       "zytiga                                     4.206897\n",
       "zyvox                                      4.133333\n",
       "zyvox solution, intravenous                3.937500\n",
       "zyvox suspension, reconstituted            4.133333\n",
       "zzzquil                                    3.251701\n",
       "Name: Effectiveness, Length: 7093, dtype: float64"
      ]
     },
     "execution_count": 41,
     "metadata": {},
     "output_type": "execute_result"
    }
   ],
   "source": [
    "avg_Effectiveness"
   ]
  },
  {
   "cell_type": "code",
   "execution_count": 42,
   "id": "be17da7c",
   "metadata": {},
   "outputs": [
    {
     "data": {
      "image/png": "[encoded data removed]",
      "text/plain": [
       "<Figure size 2000x1000 with 1 Axes>"
      ]
     },
     "metadata": {},
     "output_type": "display_data"
    }
   ],
   "source": [
    "# Average Effectiveness For All Drugs\n",
    "plt.figure(figsize=(20,10))\n",
    "avg_Effectiveness.hist()\n",
    "plt.title(\"Distrubtion of Average Rating For All Drugs\")\n",
    "plt.show()"
   ]
  },
  {
   "cell_type": "raw",
   "id": "ee4c8945",
   "metadata": {},
   "source": [
    "### Question on Review\n",
    "+ How genuine is the review? (Using sentiment analysis)\n",
    "+ How many reviews are positive,negative,neutral?\n",
    "+ Correlation between rating and review and users who found the review useful\n",
    "+ Distribution of rating\n",
    "+ Amount of review made per year and per month\n",
    "+ Which condition has the most review on drugs\n",
    "+ Can you predict the rating using the review?"
   ]
  },
  {
   "cell_type": "code",
   "execution_count": 43,
   "id": "aabdab4c",
   "metadata": {},
   "outputs": [],
   "source": [
    "# How genuine is the review? (Using sentiment analysis)\n",
    "from textblob import TextBlob"
   ]
  },
  {
   "cell_type": "code",
   "execution_count": 44,
   "id": "5be02be3",
   "metadata": {},
   "outputs": [
    {
     "name": "stdout",
     "output_type": "stream",
     "text": [
      "Requirement already satisfied: textblob in c:\\users\\abisa\\anaconda3\\lib\\site-packages (0.17.1)\n",
      "Requirement already satisfied: nltk>=3.1 in c:\\users\\abisa\\anaconda3\\lib\\site-packages (from textblob) (3.7)\n",
      "Requirement already satisfied: regex>=2021.8.3 in c:\\users\\abisa\\anaconda3\\lib\\site-packages (from nltk>=3.1->textblob) (2022.7.9)\n",
      "Requirement already satisfied: joblib in c:\\users\\abisa\\anaconda3\\lib\\site-packages (from nltk>=3.1->textblob) (1.1.0)\n",
      "Requirement already satisfied: click in c:\\users\\abisa\\anaconda3\\lib\\site-packages (from nltk>=3.1->textblob) (8.0.4)\n",
      "Requirement already satisfied: tqdm in c:\\users\\abisa\\anaconda3\\lib\\site-packages (from nltk>=3.1->textblob) (4.64.1)\n",
      "Requirement already satisfied: colorama in c:\\users\\abisa\\anaconda3\\lib\\site-packages (from click->nltk>=3.1->textblob) (0.4.5)\n",
      "Note: you may need to restart the kernel to use updated packages.\n"
     ]
    }
   ],
   "source": [
    "pip install textblob\n"
   ]
  },
  {
   "cell_type": "code",
   "execution_count": 45,
   "id": "adec5c9f",
   "metadata": {},
   "outputs": [],
   "source": [
    "def get_sentiment(text):\n",
    "    blob = TextBlob(text)\n",
    "    return blob.polarity\n",
    "\n",
    "def get_sentiment_label(text):\n",
    "    blob = TextBlob(text)\n",
    "    if blob.polarity > 0:\n",
    "        result = 'positive'\n",
    "    elif blob.polarity < 0:\n",
    "        result = 'negative'\n",
    "    else:\n",
    "        result = 'neutral'\n",
    "    return result"
   ]
  },
  {
   "cell_type": "code",
   "execution_count": 46,
   "id": "4fd5c79b",
   "metadata": {},
   "outputs": [],
   "source": [
    "def get_sentiment(text):\n",
    "    if isinstance(text, str):\n",
    "        blob = TextBlob(text)\n",
    "        return blob.polarity\n",
    "    else:\n",
    "        return 0.0  # or any other default value for non-string values\n",
    "\n",
    "def get_sentiment_label(text):\n",
    "    if isinstance(text, str):\n",
    "        blob = TextBlob(text)\n",
    "        if blob.polarity > 0:\n",
    "            result = 'positive'\n",
    "        elif blob.polarity < 0:\n",
    "            result = 'negative'\n",
    "        else:\n",
    "            result = 'neutral'\n",
    "        return result\n",
    "    else:\n",
    "        return 'neutral'  # or any other default label for non-string values\n"
   ]
  },
  {
   "cell_type": "code",
   "execution_count": 47,
   "id": "e8bc842b",
   "metadata": {},
   "outputs": [],
   "source": [
    "# Sentiment Score for Review\n",
    "df['sentiment'] = df['Reviews'].apply(get_sentiment)\n"
   ]
  },
  {
   "cell_type": "code",
   "execution_count": 48,
   "id": "12a406a2",
   "metadata": {},
   "outputs": [],
   "source": [
    "df['sentiment_label'] = df['Reviews'].apply(get_sentiment_label)"
   ]
  },
  {
   "cell_type": "code",
   "execution_count": 49,
   "id": "65e60c80",
   "metadata": {},
   "outputs": [
    {
     "data": {
      "text/html": [
       "<div>\n",
       "<style scoped>\n",
       "    .dataframe tbody tr th:only-of-type {\n",
       "        vertical-align: middle;\n",
       "    }\n",
       "\n",
       "    .dataframe tbody tr th {\n",
       "        vertical-align: top;\n",
       "    }\n",
       "\n",
       "    .dataframe thead th {\n",
       "        text-align: right;\n",
       "    }\n",
       "</style>\n",
       "<table border=\"1\" class=\"dataframe\">\n",
       "  <thead>\n",
       "    <tr style=\"text-align: right;\">\n",
       "      <th></th>\n",
       "      <th>Age</th>\n",
       "      <th>Condition</th>\n",
       "      <th>Date</th>\n",
       "      <th>Drug</th>\n",
       "      <th>DrugId</th>\n",
       "      <th>EaseofUse</th>\n",
       "      <th>Effectiveness</th>\n",
       "      <th>Reviews</th>\n",
       "      <th>Satisfaction</th>\n",
       "      <th>Sex</th>\n",
       "      <th>Sides</th>\n",
       "      <th>UsefulCount</th>\n",
       "      <th>Name</th>\n",
       "      <th>Race</th>\n",
       "      <th>sentiment</th>\n",
       "      <th>sentiment_label</th>\n",
       "    </tr>\n",
       "  </thead>\n",
       "  <tbody>\n",
       "    <tr>\n",
       "      <th>0</th>\n",
       "      <td>75 or over</td>\n",
       "      <td>Stuffy Nose</td>\n",
       "      <td>9/21/2014</td>\n",
       "      <td>25dph-7.5peh</td>\n",
       "      <td>146724</td>\n",
       "      <td>5</td>\n",
       "      <td>5</td>\n",
       "      <td>I'm a retired physician and of all the meds I ...</td>\n",
       "      <td>5</td>\n",
       "      <td>Male</td>\n",
       "      <td>Drowsiness,  dizziness ,  dry mouth /nose/thro...</td>\n",
       "      <td>0</td>\n",
       "      <td>Olivia Brewer</td>\n",
       "      <td>Hispanic</td>\n",
       "      <td>0.337500</td>\n",
       "      <td>positive</td>\n",
       "    </tr>\n",
       "    <tr>\n",
       "      <th>1</th>\n",
       "      <td>25-34</td>\n",
       "      <td>Cold Symptoms</td>\n",
       "      <td>1/13/2011</td>\n",
       "      <td>25dph-7.5peh</td>\n",
       "      <td>146724</td>\n",
       "      <td>5</td>\n",
       "      <td>5</td>\n",
       "      <td>cleared me right up even with my throat hurtin...</td>\n",
       "      <td>5</td>\n",
       "      <td>Female</td>\n",
       "      <td>Drowsiness,  dizziness ,  dry mouth /nose/thro...</td>\n",
       "      <td>1</td>\n",
       "      <td>Rebecca David</td>\n",
       "      <td>Native American</td>\n",
       "      <td>0.285714</td>\n",
       "      <td>positive</td>\n",
       "    </tr>\n",
       "    <tr>\n",
       "      <th>2</th>\n",
       "      <td>65-74</td>\n",
       "      <td>Other</td>\n",
       "      <td>7/16/2012</td>\n",
       "      <td>warfarin (bulk) 100 % powder</td>\n",
       "      <td>144731</td>\n",
       "      <td>2</td>\n",
       "      <td>3</td>\n",
       "      <td>why did my PTINR go from a normal of 2.5 to ov...</td>\n",
       "      <td>3</td>\n",
       "      <td>Female</td>\n",
       "      <td></td>\n",
       "      <td>0</td>\n",
       "      <td>Michael Carlson</td>\n",
       "      <td>African American</td>\n",
       "      <td>0.150000</td>\n",
       "      <td>positive</td>\n",
       "    </tr>\n",
       "    <tr>\n",
       "      <th>3</th>\n",
       "      <td>75 or over</td>\n",
       "      <td>Other</td>\n",
       "      <td>9/23/2010</td>\n",
       "      <td>warfarin (bulk) 100 % powder</td>\n",
       "      <td>144731</td>\n",
       "      <td>2</td>\n",
       "      <td>2</td>\n",
       "      <td>FALLING AND DON'T REALISE IT</td>\n",
       "      <td>1</td>\n",
       "      <td>Female</td>\n",
       "      <td></td>\n",
       "      <td>0</td>\n",
       "      <td>Robert Jackson</td>\n",
       "      <td>Native American</td>\n",
       "      <td>0.000000</td>\n",
       "      <td>neutral</td>\n",
       "    </tr>\n",
       "    <tr>\n",
       "      <th>4</th>\n",
       "      <td>35-44</td>\n",
       "      <td>Other</td>\n",
       "      <td>1/6/2009</td>\n",
       "      <td>warfarin (bulk) 100 % powder</td>\n",
       "      <td>144731</td>\n",
       "      <td>1</td>\n",
       "      <td>1</td>\n",
       "      <td>My grandfather was prescribed this medication ...</td>\n",
       "      <td>1</td>\n",
       "      <td>Male</td>\n",
       "      <td></td>\n",
       "      <td>1</td>\n",
       "      <td>Jennifer Brown</td>\n",
       "      <td>Asian</td>\n",
       "      <td>0.046429</td>\n",
       "      <td>positive</td>\n",
       "    </tr>\n",
       "    <tr>\n",
       "      <th>...</th>\n",
       "      <td>...</td>\n",
       "      <td>...</td>\n",
       "      <td>...</td>\n",
       "      <td>...</td>\n",
       "      <td>...</td>\n",
       "      <td>...</td>\n",
       "      <td>...</td>\n",
       "      <td>...</td>\n",
       "      <td>...</td>\n",
       "      <td>...</td>\n",
       "      <td>...</td>\n",
       "      <td>...</td>\n",
       "      <td>...</td>\n",
       "      <td>...</td>\n",
       "      <td>...</td>\n",
       "      <td>...</td>\n",
       "    </tr>\n",
       "    <tr>\n",
       "      <th>362801</th>\n",
       "      <td>55-64</td>\n",
       "      <td>Stop Smoking</td>\n",
       "      <td>11/14/2008</td>\n",
       "      <td>chantix</td>\n",
       "      <td>144470</td>\n",
       "      <td>5</td>\n",
       "      <td>5</td>\n",
       "      <td>I took the whole 12 weeks.I could have stopped...</td>\n",
       "      <td>5</td>\n",
       "      <td>Female</td>\n",
       "      <td>Nausea ,  headache ,  vomiting , drowsiness, g...</td>\n",
       "      <td>2</td>\n",
       "      <td>Lauren Garcia</td>\n",
       "      <td>Caucasian</td>\n",
       "      <td>0.212500</td>\n",
       "      <td>positive</td>\n",
       "    </tr>\n",
       "    <tr>\n",
       "      <th>362802</th>\n",
       "      <td></td>\n",
       "      <td>Other</td>\n",
       "      <td>11/14/2008</td>\n",
       "      <td>chantix</td>\n",
       "      <td>144470</td>\n",
       "      <td>2</td>\n",
       "      <td>3</td>\n",
       "      <td>My dad strated taking Chantix about 1 month ag...</td>\n",
       "      <td>1</td>\n",
       "      <td></td>\n",
       "      <td>Nausea ,  headache ,  vomiting , drowsiness, g...</td>\n",
       "      <td>16</td>\n",
       "      <td>Angela Sanders</td>\n",
       "      <td>Native American</td>\n",
       "      <td>0.004167</td>\n",
       "      <td>positive</td>\n",
       "    </tr>\n",
       "    <tr>\n",
       "      <th>362803</th>\n",
       "      <td>25-34</td>\n",
       "      <td>Stop Smoking</td>\n",
       "      <td>11/13/2008</td>\n",
       "      <td>chantix</td>\n",
       "      <td>144470</td>\n",
       "      <td>2</td>\n",
       "      <td>4</td>\n",
       "      <td>As long as I was on chantix, I didn't smoke.  ...</td>\n",
       "      <td>2</td>\n",
       "      <td>Female</td>\n",
       "      <td>Nausea ,  headache ,  vomiting , drowsiness, g...</td>\n",
       "      <td>3</td>\n",
       "      <td>William Duncan</td>\n",
       "      <td>Hispanic</td>\n",
       "      <td>-0.443750</td>\n",
       "      <td>negative</td>\n",
       "    </tr>\n",
       "    <tr>\n",
       "      <th>362804</th>\n",
       "      <td>55-64</td>\n",
       "      <td>Stop Smoking</td>\n",
       "      <td>11/13/2008</td>\n",
       "      <td>chantix</td>\n",
       "      <td>144470</td>\n",
       "      <td>5</td>\n",
       "      <td>5</td>\n",
       "      <td>Started this medication Oct 5th 2008. Haven't ...</td>\n",
       "      <td>5</td>\n",
       "      <td>Male</td>\n",
       "      <td>Nausea ,  headache ,  vomiting , drowsiness, g...</td>\n",
       "      <td>1</td>\n",
       "      <td>Chelsea Hughes DDS</td>\n",
       "      <td>Hispanic</td>\n",
       "      <td>-0.359524</td>\n",
       "      <td>negative</td>\n",
       "    </tr>\n",
       "    <tr>\n",
       "      <th>362805</th>\n",
       "      <td>45-54</td>\n",
       "      <td>Stop Smoking</td>\n",
       "      <td>11/12/2008</td>\n",
       "      <td>chantix</td>\n",
       "      <td>144470</td>\n",
       "      <td>4</td>\n",
       "      <td>5</td>\n",
       "      <td>One year ago, I tried Chantix and had to stop ...</td>\n",
       "      <td>5</td>\n",
       "      <td>Female</td>\n",
       "      <td>Nausea ,  headache ,  vomiting , drowsiness, g...</td>\n",
       "      <td>3</td>\n",
       "      <td>Jeffrey Collins</td>\n",
       "      <td>Asian</td>\n",
       "      <td>0.400000</td>\n",
       "      <td>positive</td>\n",
       "    </tr>\n",
       "  </tbody>\n",
       "</table>\n",
       "<p>362806 rows × 16 columns</p>\n",
       "</div>"
      ],
      "text/plain": [
       "               Age      Condition        Date                          Drug  \\\n",
       "0       75 or over    Stuffy Nose   9/21/2014                  25dph-7.5peh   \n",
       "1            25-34  Cold Symptoms   1/13/2011                  25dph-7.5peh   \n",
       "2            65-74          Other   7/16/2012  warfarin (bulk) 100 % powder   \n",
       "3       75 or over          Other   9/23/2010  warfarin (bulk) 100 % powder   \n",
       "4            35-44          Other    1/6/2009  warfarin (bulk) 100 % powder   \n",
       "...            ...            ...         ...                           ...   \n",
       "362801       55-64   Stop Smoking  11/14/2008                       chantix   \n",
       "362802                      Other  11/14/2008                       chantix   \n",
       "362803       25-34   Stop Smoking  11/13/2008                       chantix   \n",
       "362804       55-64   Stop Smoking  11/13/2008                       chantix   \n",
       "362805       45-54   Stop Smoking  11/12/2008                       chantix   \n",
       "\n",
       "        DrugId  EaseofUse  Effectiveness  \\\n",
       "0       146724          5              5   \n",
       "1       146724          5              5   \n",
       "2       144731          2              3   \n",
       "3       144731          2              2   \n",
       "4       144731          1              1   \n",
       "...        ...        ...            ...   \n",
       "362801  144470          5              5   \n",
       "362802  144470          2              3   \n",
       "362803  144470          2              4   \n",
       "362804  144470          5              5   \n",
       "362805  144470          4              5   \n",
       "\n",
       "                                                  Reviews  Satisfaction  \\\n",
       "0       I'm a retired physician and of all the meds I ...             5   \n",
       "1       cleared me right up even with my throat hurtin...             5   \n",
       "2       why did my PTINR go from a normal of 2.5 to ov...             3   \n",
       "3                            FALLING AND DON'T REALISE IT             1   \n",
       "4       My grandfather was prescribed this medication ...             1   \n",
       "...                                                   ...           ...   \n",
       "362801  I took the whole 12 weeks.I could have stopped...             5   \n",
       "362802  My dad strated taking Chantix about 1 month ag...             1   \n",
       "362803  As long as I was on chantix, I didn't smoke.  ...             2   \n",
       "362804  Started this medication Oct 5th 2008. Haven't ...             5   \n",
       "362805  One year ago, I tried Chantix and had to stop ...             5   \n",
       "\n",
       "           Sex                                              Sides  \\\n",
       "0         Male  Drowsiness,  dizziness ,  dry mouth /nose/thro...   \n",
       "1       Female  Drowsiness,  dizziness ,  dry mouth /nose/thro...   \n",
       "2       Female                                                      \n",
       "3       Female                                                      \n",
       "4         Male                                                      \n",
       "...        ...                                                ...   \n",
       "362801  Female  Nausea ,  headache ,  vomiting , drowsiness, g...   \n",
       "362802          Nausea ,  headache ,  vomiting , drowsiness, g...   \n",
       "362803  Female  Nausea ,  headache ,  vomiting , drowsiness, g...   \n",
       "362804    Male  Nausea ,  headache ,  vomiting , drowsiness, g...   \n",
       "362805  Female  Nausea ,  headache ,  vomiting , drowsiness, g...   \n",
       "\n",
       "        UsefulCount                Name              Race  sentiment  \\\n",
       "0                 0       Olivia Brewer          Hispanic   0.337500   \n",
       "1                 1       Rebecca David   Native American   0.285714   \n",
       "2                 0     Michael Carlson  African American   0.150000   \n",
       "3                 0      Robert Jackson   Native American   0.000000   \n",
       "4                 1      Jennifer Brown             Asian   0.046429   \n",
       "...             ...                 ...               ...        ...   \n",
       "362801            2       Lauren Garcia         Caucasian   0.212500   \n",
       "362802           16      Angela Sanders   Native American   0.004167   \n",
       "362803            3      William Duncan          Hispanic  -0.443750   \n",
       "362804            1  Chelsea Hughes DDS          Hispanic  -0.359524   \n",
       "362805            3     Jeffrey Collins             Asian   0.400000   \n",
       "\n",
       "       sentiment_label  \n",
       "0             positive  \n",
       "1             positive  \n",
       "2             positive  \n",
       "3              neutral  \n",
       "4             positive  \n",
       "...                ...  \n",
       "362801        positive  \n",
       "362802        positive  \n",
       "362803        negative  \n",
       "362804        negative  \n",
       "362805        positive  \n",
       "\n",
       "[362806 rows x 16 columns]"
      ]
     },
     "execution_count": 49,
     "metadata": {},
     "output_type": "execute_result"
    }
   ],
   "source": [
    "df"
   ]
  },
  {
   "cell_type": "code",
   "execution_count": 50,
   "id": "16da0838",
   "metadata": {},
   "outputs": [],
   "source": [
    "data_copy = df.copy()"
   ]
  },
  {
   "cell_type": "code",
   "execution_count": 51,
   "id": "f33c6386",
   "metadata": {},
   "outputs": [],
   "source": [
    "# Handling instances with whitespaces\n",
    "for i in data_copy:\n",
    "    data_copy[i]=np.where(data_copy[i]==\" \",np.NAN,data_copy[i])"
   ]
  },
  {
   "cell_type": "code",
   "execution_count": 52,
   "id": "5a5e892a",
   "metadata": {},
   "outputs": [
    {
     "data": {
      "text/html": [
       "<div>\n",
       "<style scoped>\n",
       "    .dataframe tbody tr th:only-of-type {\n",
       "        vertical-align: middle;\n",
       "    }\n",
       "\n",
       "    .dataframe tbody tr th {\n",
       "        vertical-align: top;\n",
       "    }\n",
       "\n",
       "    .dataframe thead th {\n",
       "        text-align: right;\n",
       "    }\n",
       "</style>\n",
       "<table border=\"1\" class=\"dataframe\">\n",
       "  <thead>\n",
       "    <tr style=\"text-align: right;\">\n",
       "      <th></th>\n",
       "      <th>Age</th>\n",
       "      <th>Condition</th>\n",
       "      <th>Date</th>\n",
       "      <th>Drug</th>\n",
       "      <th>DrugId</th>\n",
       "      <th>EaseofUse</th>\n",
       "      <th>Effectiveness</th>\n",
       "      <th>Reviews</th>\n",
       "      <th>Satisfaction</th>\n",
       "      <th>Sex</th>\n",
       "      <th>Sides</th>\n",
       "      <th>UsefulCount</th>\n",
       "      <th>Name</th>\n",
       "      <th>Race</th>\n",
       "      <th>sentiment</th>\n",
       "      <th>sentiment_label</th>\n",
       "    </tr>\n",
       "  </thead>\n",
       "  <tbody>\n",
       "    <tr>\n",
       "      <th>0</th>\n",
       "      <td>75 or over</td>\n",
       "      <td>Stuffy Nose</td>\n",
       "      <td>9/21/2014</td>\n",
       "      <td>25dph-7.5peh</td>\n",
       "      <td>146724.0</td>\n",
       "      <td>5.0</td>\n",
       "      <td>5.0</td>\n",
       "      <td>I'm a retired physician and of all the meds I ...</td>\n",
       "      <td>5.0</td>\n",
       "      <td>Male</td>\n",
       "      <td>Drowsiness,  dizziness ,  dry mouth /nose/thro...</td>\n",
       "      <td>0.0</td>\n",
       "      <td>Olivia Brewer</td>\n",
       "      <td>Hispanic</td>\n",
       "      <td>0.337500</td>\n",
       "      <td>positive</td>\n",
       "    </tr>\n",
       "    <tr>\n",
       "      <th>1</th>\n",
       "      <td>25-34</td>\n",
       "      <td>Cold Symptoms</td>\n",
       "      <td>1/13/2011</td>\n",
       "      <td>25dph-7.5peh</td>\n",
       "      <td>146724.0</td>\n",
       "      <td>5.0</td>\n",
       "      <td>5.0</td>\n",
       "      <td>cleared me right up even with my throat hurtin...</td>\n",
       "      <td>5.0</td>\n",
       "      <td>Female</td>\n",
       "      <td>Drowsiness,  dizziness ,  dry mouth /nose/thro...</td>\n",
       "      <td>1.0</td>\n",
       "      <td>Rebecca David</td>\n",
       "      <td>Native American</td>\n",
       "      <td>0.285714</td>\n",
       "      <td>positive</td>\n",
       "    </tr>\n",
       "    <tr>\n",
       "      <th>2</th>\n",
       "      <td>65-74</td>\n",
       "      <td>Other</td>\n",
       "      <td>7/16/2012</td>\n",
       "      <td>warfarin (bulk) 100 % powder</td>\n",
       "      <td>144731.0</td>\n",
       "      <td>2.0</td>\n",
       "      <td>3.0</td>\n",
       "      <td>why did my PTINR go from a normal of 2.5 to ov...</td>\n",
       "      <td>3.0</td>\n",
       "      <td>Female</td>\n",
       "      <td>NaN</td>\n",
       "      <td>0.0</td>\n",
       "      <td>Michael Carlson</td>\n",
       "      <td>African American</td>\n",
       "      <td>0.150000</td>\n",
       "      <td>positive</td>\n",
       "    </tr>\n",
       "    <tr>\n",
       "      <th>3</th>\n",
       "      <td>75 or over</td>\n",
       "      <td>Other</td>\n",
       "      <td>9/23/2010</td>\n",
       "      <td>warfarin (bulk) 100 % powder</td>\n",
       "      <td>144731.0</td>\n",
       "      <td>2.0</td>\n",
       "      <td>2.0</td>\n",
       "      <td>FALLING AND DON'T REALISE IT</td>\n",
       "      <td>1.0</td>\n",
       "      <td>Female</td>\n",
       "      <td>NaN</td>\n",
       "      <td>0.0</td>\n",
       "      <td>Robert Jackson</td>\n",
       "      <td>Native American</td>\n",
       "      <td>0.000000</td>\n",
       "      <td>neutral</td>\n",
       "    </tr>\n",
       "    <tr>\n",
       "      <th>4</th>\n",
       "      <td>35-44</td>\n",
       "      <td>Other</td>\n",
       "      <td>1/6/2009</td>\n",
       "      <td>warfarin (bulk) 100 % powder</td>\n",
       "      <td>144731.0</td>\n",
       "      <td>1.0</td>\n",
       "      <td>1.0</td>\n",
       "      <td>My grandfather was prescribed this medication ...</td>\n",
       "      <td>1.0</td>\n",
       "      <td>Male</td>\n",
       "      <td>NaN</td>\n",
       "      <td>1.0</td>\n",
       "      <td>Jennifer Brown</td>\n",
       "      <td>Asian</td>\n",
       "      <td>0.046429</td>\n",
       "      <td>positive</td>\n",
       "    </tr>\n",
       "  </tbody>\n",
       "</table>\n",
       "</div>"
      ],
      "text/plain": [
       "          Age      Condition       Date                          Drug  \\\n",
       "0  75 or over    Stuffy Nose  9/21/2014                  25dph-7.5peh   \n",
       "1       25-34  Cold Symptoms  1/13/2011                  25dph-7.5peh   \n",
       "2       65-74          Other  7/16/2012  warfarin (bulk) 100 % powder   \n",
       "3  75 or over          Other  9/23/2010  warfarin (bulk) 100 % powder   \n",
       "4       35-44          Other   1/6/2009  warfarin (bulk) 100 % powder   \n",
       "\n",
       "     DrugId  EaseofUse  Effectiveness  \\\n",
       "0  146724.0        5.0            5.0   \n",
       "1  146724.0        5.0            5.0   \n",
       "2  144731.0        2.0            3.0   \n",
       "3  144731.0        2.0            2.0   \n",
       "4  144731.0        1.0            1.0   \n",
       "\n",
       "                                             Reviews  Satisfaction     Sex  \\\n",
       "0  I'm a retired physician and of all the meds I ...           5.0    Male   \n",
       "1  cleared me right up even with my throat hurtin...           5.0  Female   \n",
       "2  why did my PTINR go from a normal of 2.5 to ov...           3.0  Female   \n",
       "3                       FALLING AND DON'T REALISE IT           1.0  Female   \n",
       "4  My grandfather was prescribed this medication ...           1.0    Male   \n",
       "\n",
       "                                               Sides  UsefulCount  \\\n",
       "0  Drowsiness,  dizziness ,  dry mouth /nose/thro...          0.0   \n",
       "1  Drowsiness,  dizziness ,  dry mouth /nose/thro...          1.0   \n",
       "2                                                NaN          0.0   \n",
       "3                                                NaN          0.0   \n",
       "4                                                NaN          1.0   \n",
       "\n",
       "              Name              Race  sentiment sentiment_label  \n",
       "0    Olivia Brewer          Hispanic   0.337500        positive  \n",
       "1    Rebecca David   Native American   0.285714        positive  \n",
       "2  Michael Carlson  African American   0.150000        positive  \n",
       "3   Robert Jackson   Native American   0.000000         neutral  \n",
       "4   Jennifer Brown             Asian   0.046429        positive  "
      ]
     },
     "execution_count": 52,
     "metadata": {},
     "output_type": "execute_result"
    }
   ],
   "source": [
    "data_copy.head()"
   ]
  },
  {
   "cell_type": "code",
   "execution_count": 53,
   "id": "a8e38b3d",
   "metadata": {},
   "outputs": [
    {
     "data": {
      "text/plain": [
       "Age                12202\n",
       "Condition             43\n",
       "Date                   0\n",
       "Drug                   0\n",
       "DrugId                 0\n",
       "EaseofUse              0\n",
       "Effectiveness          0\n",
       "Reviews            41861\n",
       "Satisfaction           0\n",
       "Sex                26537\n",
       "Sides              17460\n",
       "UsefulCount            0\n",
       "Name                   0\n",
       "Race                   0\n",
       "sentiment              0\n",
       "sentiment_label        0\n",
       "dtype: int64"
      ]
     },
     "execution_count": 53,
     "metadata": {},
     "output_type": "execute_result"
    }
   ],
   "source": [
    "#checking missing values\n",
    "data_copy.isnull().sum()"
   ]
  },
  {
   "cell_type": "code",
   "execution_count": 54,
   "id": "1efb0417",
   "metadata": {},
   "outputs": [
    {
     "data": {
      "text/html": [
       "<div>\n",
       "<style scoped>\n",
       "    .dataframe tbody tr th:only-of-type {\n",
       "        vertical-align: middle;\n",
       "    }\n",
       "\n",
       "    .dataframe tbody tr th {\n",
       "        vertical-align: top;\n",
       "    }\n",
       "\n",
       "    .dataframe thead th {\n",
       "        text-align: right;\n",
       "    }\n",
       "</style>\n",
       "<table border=\"1\" class=\"dataframe\">\n",
       "  <thead>\n",
       "    <tr style=\"text-align: right;\">\n",
       "      <th></th>\n",
       "      <th>Age</th>\n",
       "      <th>Condition</th>\n",
       "      <th>Date</th>\n",
       "      <th>Drug</th>\n",
       "      <th>DrugId</th>\n",
       "      <th>EaseofUse</th>\n",
       "      <th>Effectiveness</th>\n",
       "      <th>Reviews</th>\n",
       "      <th>Satisfaction</th>\n",
       "      <th>Sex</th>\n",
       "      <th>Sides</th>\n",
       "      <th>UsefulCount</th>\n",
       "      <th>Name</th>\n",
       "      <th>Race</th>\n",
       "      <th>sentiment</th>\n",
       "      <th>sentiment_label</th>\n",
       "    </tr>\n",
       "  </thead>\n",
       "  <tbody>\n",
       "    <tr>\n",
       "      <th>120402</th>\n",
       "      <td></td>\n",
       "      <td>Other</td>\n",
       "      <td>3/2/2020</td>\n",
       "      <td>prednisone</td>\n",
       "      <td>6007</td>\n",
       "      <td>5</td>\n",
       "      <td>5</td>\n",
       "      <td>No Script or health Insurance needed to place ...</td>\n",
       "      <td>5</td>\n",
       "      <td></td>\n",
       "      <td>Nausea ,  vomiting , loss of appetite,  heartb...</td>\n",
       "      <td>11</td>\n",
       "      <td>Andrew Garza</td>\n",
       "      <td>Hispanic</td>\n",
       "      <td>-0.075000</td>\n",
       "      <td>negative</td>\n",
       "    </tr>\n",
       "    <tr>\n",
       "      <th>120403</th>\n",
       "      <td>55-64</td>\n",
       "      <td>Inflammation of the Artery in the Temple Area</td>\n",
       "      <td>1/1/2020</td>\n",
       "      <td>prednisone</td>\n",
       "      <td>6007</td>\n",
       "      <td>5</td>\n",
       "      <td>4</td>\n",
       "      <td>CVS stated. Claims regarding that it does not ...</td>\n",
       "      <td>2</td>\n",
       "      <td>Female</td>\n",
       "      <td>Nausea ,  vomiting , loss of appetite,  heartb...</td>\n",
       "      <td>0</td>\n",
       "      <td>Frank Grant</td>\n",
       "      <td>African American</td>\n",
       "      <td>0.150000</td>\n",
       "      <td>positive</td>\n",
       "    </tr>\n",
       "    <tr>\n",
       "      <th>120404</th>\n",
       "      <td>65-74</td>\n",
       "      <td>Destruction of Red Blood Cells by Body's Own A...</td>\n",
       "      <td>10/1/2019</td>\n",
       "      <td>prednisone</td>\n",
       "      <td>6007</td>\n",
       "      <td>4</td>\n",
       "      <td>4</td>\n",
       "      <td>It has taken 9 months to taper down from 60mg ...</td>\n",
       "      <td>4</td>\n",
       "      <td>Male</td>\n",
       "      <td>Nausea ,  vomiting , loss of appetite,  heartb...</td>\n",
       "      <td>0</td>\n",
       "      <td>Robin Lamb</td>\n",
       "      <td>Hispanic</td>\n",
       "      <td>-0.138889</td>\n",
       "      <td>negative</td>\n",
       "    </tr>\n",
       "    <tr>\n",
       "      <th>120408</th>\n",
       "      <td>65-74</td>\n",
       "      <td>Destruction of Red Blood Cells by Body's Own A...</td>\n",
       "      <td>10/1/2019</td>\n",
       "      <td>prednisone</td>\n",
       "      <td>6007</td>\n",
       "      <td>4</td>\n",
       "      <td>4</td>\n",
       "      <td>It has taken 9 months to taper down from 60mg ...</td>\n",
       "      <td>4</td>\n",
       "      <td></td>\n",
       "      <td>Nausea ,  vomiting , loss of appetite,  heartb...</td>\n",
       "      <td>0</td>\n",
       "      <td>Joshua Chen</td>\n",
       "      <td>Asian</td>\n",
       "      <td>-0.138889</td>\n",
       "      <td>negative</td>\n",
       "    </tr>\n",
       "    <tr>\n",
       "      <th>120409</th>\n",
       "      <td>35-44</td>\n",
       "      <td>Myasthenia Gravis</td>\n",
       "      <td>9/8/2019</td>\n",
       "      <td>prednisone</td>\n",
       "      <td>6007</td>\n",
       "      <td>1</td>\n",
       "      <td>1</td>\n",
       "      <td>This med make you sicker and only controls sym...</td>\n",
       "      <td>1</td>\n",
       "      <td>Male</td>\n",
       "      <td>Nausea ,  vomiting , loss of appetite,  heartb...</td>\n",
       "      <td>0</td>\n",
       "      <td>Sally Mcguire</td>\n",
       "      <td>Hispanic</td>\n",
       "      <td>-0.226042</td>\n",
       "      <td>negative</td>\n",
       "    </tr>\n",
       "  </tbody>\n",
       "</table>\n",
       "</div>"
      ],
      "text/plain": [
       "          Age                                          Condition       Date  \\\n",
       "120402                                                     Other   3/2/2020   \n",
       "120403  55-64      Inflammation of the Artery in the Temple Area   1/1/2020   \n",
       "120404  65-74  Destruction of Red Blood Cells by Body's Own A...  10/1/2019   \n",
       "120408  65-74  Destruction of Red Blood Cells by Body's Own A...  10/1/2019   \n",
       "120409  35-44                                  Myasthenia Gravis   9/8/2019   \n",
       "\n",
       "              Drug  DrugId  EaseofUse  Effectiveness  \\\n",
       "120402  prednisone    6007          5              5   \n",
       "120403  prednisone    6007          5              4   \n",
       "120404  prednisone    6007          4              4   \n",
       "120408  prednisone    6007          4              4   \n",
       "120409  prednisone    6007          1              1   \n",
       "\n",
       "                                                  Reviews  Satisfaction  \\\n",
       "120402  No Script or health Insurance needed to place ...             5   \n",
       "120403  CVS stated. Claims regarding that it does not ...             2   \n",
       "120404  It has taken 9 months to taper down from 60mg ...             4   \n",
       "120408  It has taken 9 months to taper down from 60mg ...             4   \n",
       "120409  This med make you sicker and only controls sym...             1   \n",
       "\n",
       "           Sex                                              Sides  \\\n",
       "120402          Nausea ,  vomiting , loss of appetite,  heartb...   \n",
       "120403  Female  Nausea ,  vomiting , loss of appetite,  heartb...   \n",
       "120404    Male  Nausea ,  vomiting , loss of appetite,  heartb...   \n",
       "120408          Nausea ,  vomiting , loss of appetite,  heartb...   \n",
       "120409    Male  Nausea ,  vomiting , loss of appetite,  heartb...   \n",
       "\n",
       "        UsefulCount           Name              Race  sentiment  \\\n",
       "120402           11   Andrew Garza          Hispanic  -0.075000   \n",
       "120403            0    Frank Grant  African American   0.150000   \n",
       "120404            0     Robin Lamb          Hispanic  -0.138889   \n",
       "120408            0    Joshua Chen             Asian  -0.138889   \n",
       "120409            0  Sally Mcguire          Hispanic  -0.226042   \n",
       "\n",
       "       sentiment_label  \n",
       "120402        negative  \n",
       "120403        positive  \n",
       "120404        negative  \n",
       "120408        negative  \n",
       "120409        negative  "
      ]
     },
     "execution_count": 54,
     "metadata": {},
     "output_type": "execute_result"
    }
   ],
   "source": [
    "drug_prednisone= df.loc[(df['Drug'] =='prednisone')]\n",
    "drug_prednisone.head(5)"
   ]
  },
  {
   "cell_type": "code",
   "execution_count": 55,
   "id": "17ad464b",
   "metadata": {},
   "outputs": [
    {
     "data": {
      "text/plain": [
       "Other                                            381\n",
       "Asthma                                           379\n",
       "Rheumatoid Arthritis                             242\n",
       "Obstructive Pulmonary Disease                    113\n",
       "Skin Condition                                   110\n",
       "                                                ... \n",
       "Chronic Malignant T-Cell Lymphoma of the Skin      1\n",
       "                                                   1\n",
       "Neuroendocrine Cancer of the Prostate Gland        1\n",
       "Diffuse Large B-Cell Lymphoma                      1\n",
       "Chronic Lymphoid Leukemia                          1\n",
       "Name: Condition, Length: 92, dtype: int64"
      ]
     },
     "execution_count": 55,
     "metadata": {},
     "output_type": "execute_result"
    }
   ],
   "source": [
    "drug_prednisone['Condition'].value_counts()"
   ]
  },
  {
   "cell_type": "code",
   "execution_count": 56,
   "id": "e86b5028",
   "metadata": {},
   "outputs": [],
   "source": [
    "data_new = drug_prednisone.copy()"
   ]
  },
  {
   "cell_type": "code",
   "execution_count": 57,
   "id": "8369877b",
   "metadata": {},
   "outputs": [],
   "source": [
    "data_copy = df.copy()"
   ]
  },
  {
   "cell_type": "code",
   "execution_count": 58,
   "id": "2cc6db7b",
   "metadata": {},
   "outputs": [],
   "source": [
    "# Handling instances with whitespaces\n",
    "for i in data_new:\n",
    "    data_new[i]=np.where(data_new[i]==\" \",np.NAN,data_new[i])"
   ]
  },
  {
   "cell_type": "code",
   "execution_count": 59,
   "id": "e6c39e78",
   "metadata": {},
   "outputs": [
    {
     "data": {
      "text/plain": [
       "Age                 85\n",
       "Condition            1\n",
       "Date                 0\n",
       "Drug                 0\n",
       "DrugId               0\n",
       "EaseofUse            0\n",
       "Effectiveness        0\n",
       "Reviews            291\n",
       "Satisfaction         0\n",
       "Sex                131\n",
       "Sides                0\n",
       "UsefulCount          0\n",
       "Name                 0\n",
       "Race                 0\n",
       "sentiment            0\n",
       "sentiment_label      0\n",
       "dtype: int64"
      ]
     },
     "execution_count": 59,
     "metadata": {},
     "output_type": "execute_result"
    }
   ],
   "source": [
    "#checking missing values\n",
    "data_new.isnull().sum()"
   ]
  },
  {
   "cell_type": "code",
   "execution_count": 60,
   "id": "bb98f832",
   "metadata": {},
   "outputs": [
    {
     "data": {
      "text/plain": [
       "(2576, 16)"
      ]
     },
     "execution_count": 60,
     "metadata": {},
     "output_type": "execute_result"
    }
   ],
   "source": [
    "data_new.shape"
   ]
  },
  {
   "cell_type": "code",
   "execution_count": 61,
   "id": "fb1ff6b0",
   "metadata": {},
   "outputs": [],
   "source": [
    "# Removing rows with null data\n",
    "data_new=data_new.dropna(axis=0)"
   ]
  },
  {
   "cell_type": "code",
   "execution_count": 62,
   "id": "16869f7c",
   "metadata": {},
   "outputs": [
    {
     "data": {
      "text/plain": [
       "Age                0\n",
       "Condition          0\n",
       "Date               0\n",
       "Drug               0\n",
       "DrugId             0\n",
       "EaseofUse          0\n",
       "Effectiveness      0\n",
       "Reviews            0\n",
       "Satisfaction       0\n",
       "Sex                0\n",
       "Sides              0\n",
       "UsefulCount        0\n",
       "Name               0\n",
       "Race               0\n",
       "sentiment          0\n",
       "sentiment_label    0\n",
       "dtype: int64"
      ]
     },
     "execution_count": 62,
     "metadata": {},
     "output_type": "execute_result"
    }
   ],
   "source": [
    "data_new.isnull().sum()"
   ]
  },
  {
   "cell_type": "code",
   "execution_count": 63,
   "id": "8340883a",
   "metadata": {},
   "outputs": [
    {
     "data": {
      "text/plain": [
       "(2153, 16)"
      ]
     },
     "execution_count": 63,
     "metadata": {},
     "output_type": "execute_result"
    }
   ],
   "source": [
    "data_new.shape"
   ]
  },
  {
   "cell_type": "markdown",
   "id": "54dec42b",
   "metadata": {},
   "source": [
    "\n",
    "# Text processing"
   ]
  },
  {
   "cell_type": "code",
   "execution_count": 64,
   "id": "3c0ca2b0",
   "metadata": {},
   "outputs": [],
   "source": [
    "# converting rows having data other than string datatype into  string.\n",
    "for i in range(0,len(data_new)-1):\n",
    "    if type(data_new.iloc[i]['Sides']) != str:\n",
    "        data_new.iloc[i]['Sides'] = str(data_new.iloc[i]['Sides'])\n",
    "\n",
    "for i in range(0,len(data_new)-1):\n",
    "    if type(data_new.iloc[i]['Reviews']) != str:\n",
    "        data_new.iloc[i]['Reviews'] = str(data_new.iloc[i]['Reviews'])\n",
    "        \n",
    "for i in range(0,len(data_new)-1):\n",
    "    if type(data_new.iloc[i]['Condition']) != str:\n",
    "        data_new.iloc[i]['Condition'] = str(data_new.iloc[i]['Condition'])"
   ]
  },
  {
   "cell_type": "code",
   "execution_count": 65,
   "id": "d084a1ad",
   "metadata": {},
   "outputs": [],
   "source": [
    "import re\n",
    "def cleaning_text(i):\n",
    "    i = re.sub(\"[^A-Za-z\" \"]+\",\" \",i).lower()\n",
    "    i = re.sub(\"[0-9\" \"]+\",\" \",i)\n",
    "    i= re.sub(\"[\\W+\"\"]\", \" \",i)        \n",
    "    w = []\n",
    "    for word in i.split(\" \"):\n",
    "        if len(word)>3:\n",
    "            w.append(word)\n",
    "    return (\" \".join(w))"
   ]
  },
  {
   "cell_type": "code",
   "execution_count": 66,
   "id": "bdf80ec2",
   "metadata": {},
   "outputs": [
    {
     "data": {
      "text/plain": [
       "120403    nausea vomiting loss appetite heartburn troubl...\n",
       "120404    nausea vomiting loss appetite heartburn troubl...\n",
       "120409    nausea vomiting loss appetite heartburn troubl...\n",
       "120413    nausea vomiting loss appetite heartburn troubl...\n",
       "120419    nausea vomiting loss appetite heartburn troubl...\n",
       "                                ...                        \n",
       "122997    nausea vomiting loss appetite heartburn troubl...\n",
       "122998    nausea vomiting loss appetite heartburn troubl...\n",
       "122999    nausea vomiting loss appetite heartburn troubl...\n",
       "123000    nausea vomiting loss appetite heartburn troubl...\n",
       "123001    nausea vomiting loss appetite heartburn troubl...\n",
       "Name: Sides, Length: 2153, dtype: object"
      ]
     },
     "execution_count": 66,
     "metadata": {},
     "output_type": "execute_result"
    }
   ],
   "source": [
    "data_new.Sides= data_new.Sides.apply(cleaning_text)\n",
    "data_new.Sides"
   ]
  },
  {
   "cell_type": "code",
   "execution_count": 67,
   "id": "ec8ceb53",
   "metadata": {},
   "outputs": [
    {
     "name": "stderr",
     "output_type": "stream",
     "text": [
      "[nltk_data] Error loading stopwords: <urlopen error [WinError 10060] A\n",
      "[nltk_data]     connection attempt failed because the connected party\n",
      "[nltk_data]     did not properly respond after a period of time, or\n",
      "[nltk_data]     established connection failed because connected host\n",
      "[nltk_data]     has failed to respond>\n"
     ]
    }
   ],
   "source": [
    "import nltk\n",
    "nltk.download('stopwords')\n",
    "from nltk.corpus import stopwords\n",
    "\n"
   ]
  },
  {
   "cell_type": "code",
   "execution_count": 68,
   "id": "b7f76adc",
   "metadata": {},
   "outputs": [
    {
     "data": {
      "text/plain": [
       "['C:\\\\Users\\\\ABISA/nltk_data',\n",
       " 'C:\\\\Users\\\\ABISA\\\\anaconda3\\\\nltk_data',\n",
       " 'C:\\\\Users\\\\ABISA\\\\anaconda3\\\\share\\\\nltk_data',\n",
       " 'C:\\\\Users\\\\ABISA\\\\anaconda3\\\\lib\\\\nltk_data',\n",
       " 'C:\\\\Users\\\\ABISA\\\\AppData\\\\Roaming\\\\nltk_data',\n",
       " 'C:\\\\nltk_data',\n",
       " 'D:\\\\nltk_data',\n",
       " 'E:\\\\nltk_data']"
      ]
     },
     "execution_count": 68,
     "metadata": {},
     "output_type": "execute_result"
    }
   ],
   "source": [
    "import nltk\n",
    "nltk.data.path\n"
   ]
  },
  {
   "cell_type": "code",
   "execution_count": 69,
   "id": "046533bd",
   "metadata": {},
   "outputs": [
    {
     "data": {
      "text/plain": [
       "120403    nausea vomiting loss appetite heartburn troubl...\n",
       "120404    nausea vomiting loss appetite heartburn troubl...\n",
       "120409    nausea vomiting loss appetite heartburn troubl...\n",
       "120413    nausea vomiting loss appetite heartburn troubl...\n",
       "120419    nausea vomiting loss appetite heartburn troubl...\n",
       "                                ...                        \n",
       "122997    nausea vomiting loss appetite heartburn troubl...\n",
       "122998    nausea vomiting loss appetite heartburn troubl...\n",
       "122999    nausea vomiting loss appetite heartburn troubl...\n",
       "123000    nausea vomiting loss appetite heartburn troubl...\n",
       "123001    nausea vomiting loss appetite heartburn troubl...\n",
       "Name: Sides, Length: 2153, dtype: object"
      ]
     },
     "execution_count": 69,
     "metadata": {},
     "output_type": "execute_result"
    }
   ],
   "source": [
    "data_new['Sides']"
   ]
  },
  {
   "cell_type": "code",
   "execution_count": 70,
   "id": "63c10bd1",
   "metadata": {},
   "outputs": [
    {
     "data": {
      "text/plain": [
       "Female    1563\n",
       "Male       590\n",
       "Name: Sex, dtype: int64"
      ]
     },
     "execution_count": 70,
     "metadata": {},
     "output_type": "execute_result"
    }
   ],
   "source": [
    "data_new['Sex'].value_counts()"
   ]
  },
  {
   "cell_type": "code",
   "execution_count": 71,
   "id": "3e035640",
   "metadata": {},
   "outputs": [
    {
     "data": {
      "text/plain": [
       "45-54         491\n",
       "55-64         472\n",
       "65-74         338\n",
       "35-44         295\n",
       "25-34         258\n",
       "75 or over    126\n",
       "19-24         117\n",
       "13-18          39\n",
       "7-12            8\n",
       "3-6             5\n",
       "0-2             4\n",
       "Name: Age, dtype: int64"
      ]
     },
     "execution_count": 71,
     "metadata": {},
     "output_type": "execute_result"
    }
   ],
   "source": [
    "data_new['Age'].value_counts()"
   ]
  },
  {
   "cell_type": "code",
   "execution_count": 72,
   "id": "3ac9d670",
   "metadata": {},
   "outputs": [
    {
     "data": {
      "text/plain": [
       "array(['55-64', '65-74', '35-44', '45-54', '75 or over', '25-34', '19-24',\n",
       "       '13-18', '3-6', '7-12', '0-2'], dtype=object)"
      ]
     },
     "execution_count": 72,
     "metadata": {},
     "output_type": "execute_result"
    }
   ],
   "source": [
    "data_new['Age'].unique()"
   ]
  },
  {
   "cell_type": "code",
   "execution_count": 73,
   "id": "5f8d824f",
   "metadata": {},
   "outputs": [],
   "source": [
    "data_new['Age']=data_new['Age'].str.replace('75 or over','75-100')"
   ]
  },
  {
   "cell_type": "code",
   "execution_count": 74,
   "id": "b9463dd9",
   "metadata": {},
   "outputs": [
    {
     "data": {
      "text/plain": [
       "45-54     491\n",
       "55-64     472\n",
       "65-74     338\n",
       "35-44     295\n",
       "25-34     258\n",
       "75-100    126\n",
       "19-24     117\n",
       "13-18      39\n",
       "7-12        8\n",
       "3-6         5\n",
       "0-2         4\n",
       "Name: Age, dtype: int64"
      ]
     },
     "execution_count": 74,
     "metadata": {},
     "output_type": "execute_result"
    }
   ],
   "source": [
    "data_new['Age'].value_counts()"
   ]
  },
  {
   "cell_type": "markdown",
   "id": "ef24a96c",
   "metadata": {},
   "source": [
    "# Outliers detection"
   ]
  },
  {
   "cell_type": "code",
   "execution_count": 75,
   "id": "c12d37da",
   "metadata": {},
   "outputs": [
    {
     "data": {
      "image/png": "[encoded data removed]",
      "text/plain": [
       "<Figure size 1000x600 with 4 Axes>"
      ]
     },
     "metadata": {},
     "output_type": "display_data"
    }
   ],
   "source": [
    "plt.figure(figsize=(10,6))\n",
    "\n",
    "plt.subplot(2,2,1)\n",
    "plt.boxplot(data_new[\"EaseofUse\"])\n",
    "plt.title(\" Ease Of Use\")\n",
    "\n",
    "plt.subplot(2,2,2)\n",
    "plt.boxplot(data_new[\"Effectiveness\"])\n",
    "plt.title(\" Effectiveness\")\n",
    "\n",
    "plt.subplot(2,2,3)\n",
    "plt.boxplot(data_new[\"Satisfaction\"])\n",
    "plt.title(\" Satisfaction\")\n",
    "\n",
    "plt.subplot(2,2,4)\n",
    "plt.boxplot(data_new[\"UsefulCount\"])\n",
    "plt.title(\" Useful Count\")\n",
    "plt.show()"
   ]
  },
  {
   "cell_type": "markdown",
   "id": "a6e1388a",
   "metadata": {},
   "source": [
    "# Removing outliers"
   ]
  },
  {
   "cell_type": "code",
   "execution_count": 76,
   "id": "a3d5efd7",
   "metadata": {},
   "outputs": [],
   "source": [
    "# define a function called 'outliers' which returns a list of outliers\n",
    "def outliers(df,ft):\n",
    "    Q1=df[ft].quantile(0.25)\n",
    "    Q3=df[ft].quantile(0.75)\n",
    "    IQR=Q3-Q1\n",
    "    lower=Q1-1.5*IQR\n",
    "    upper=Q3+1.5*IQR\n",
    "#create list to store indexes of outliers\n",
    "    ls= df.index[(df[ft]<lower) | (df[ft]>upper)]\n",
    "    return ls"
   ]
  },
  {
   "cell_type": "code",
   "execution_count": 77,
   "id": "cf72b008",
   "metadata": {},
   "outputs": [
    {
     "data": {
      "text/plain": [
       "[120439,\n",
       " 120477,\n",
       " 120491,\n",
       " 120503,\n",
       " 120506,\n",
       " 120511,\n",
       " 120523,\n",
       " 120525,\n",
       " 120531,\n",
       " 120534,\n",
       " 120550,\n",
       " 120568,\n",
       " 120571,\n",
       " 120621,\n",
       " 120629,\n",
       " 120647,\n",
       " 120651,\n",
       " 120655,\n",
       " 120664,\n",
       " 120681,\n",
       " 120686,\n",
       " 120695,\n",
       " 120716,\n",
       " 120725,\n",
       " 120727,\n",
       " 120730,\n",
       " 120734,\n",
       " 120736,\n",
       " 120744,\n",
       " 120748,\n",
       " 120765,\n",
       " 120786,\n",
       " 120788,\n",
       " 120798,\n",
       " 120801,\n",
       " 120813,\n",
       " 120815,\n",
       " 120820,\n",
       " 120826,\n",
       " 120828,\n",
       " 120833,\n",
       " 120838,\n",
       " 120839,\n",
       " 120851,\n",
       " 120860,\n",
       " 120863,\n",
       " 120868,\n",
       " 120876,\n",
       " 120893,\n",
       " 120898,\n",
       " 120909,\n",
       " 120912,\n",
       " 120915,\n",
       " 120918,\n",
       " 120925,\n",
       " 120926,\n",
       " 120929,\n",
       " 120946,\n",
       " 120956,\n",
       " 120958,\n",
       " 120962,\n",
       " 120967,\n",
       " 120977,\n",
       " 120997,\n",
       " 120998,\n",
       " 121002,\n",
       " 121009,\n",
       " 121017,\n",
       " 121021,\n",
       " 121040,\n",
       " 121043,\n",
       " 121048,\n",
       " 121060,\n",
       " 121073,\n",
       " 121108,\n",
       " 121116,\n",
       " 121121,\n",
       " 121137,\n",
       " 121160,\n",
       " 121169,\n",
       " 121182,\n",
       " 121187,\n",
       " 121217,\n",
       " 121264,\n",
       " 121297,\n",
       " 121300,\n",
       " 121306,\n",
       " 121309,\n",
       " 121325,\n",
       " 121326,\n",
       " 121361,\n",
       " 121362,\n",
       " 121367,\n",
       " 121393,\n",
       " 121409,\n",
       " 121422,\n",
       " 121425,\n",
       " 121433,\n",
       " 121504,\n",
       " 121510,\n",
       " 121515,\n",
       " 121519,\n",
       " 121542,\n",
       " 121544,\n",
       " 121545,\n",
       " 121586,\n",
       " 121599,\n",
       " 121612,\n",
       " 121626,\n",
       " 121636,\n",
       " 121646,\n",
       " 121651,\n",
       " 121660,\n",
       " 121666,\n",
       " 121668,\n",
       " 121694,\n",
       " 121700,\n",
       " 121707,\n",
       " 121725,\n",
       " 121726,\n",
       " 121730,\n",
       " 121743,\n",
       " 121744,\n",
       " 121753,\n",
       " 121761,\n",
       " 121763,\n",
       " 121780,\n",
       " 121803,\n",
       " 121811,\n",
       " 121817,\n",
       " 121822,\n",
       " 121827,\n",
       " 121829,\n",
       " 121852,\n",
       " 121864,\n",
       " 121865,\n",
       " 121867,\n",
       " 121874,\n",
       " 121877,\n",
       " 121916,\n",
       " 121919,\n",
       " 121920,\n",
       " 121929,\n",
       " 121930,\n",
       " 121949,\n",
       " 121951,\n",
       " 121953,\n",
       " 121955,\n",
       " 121961,\n",
       " 121975,\n",
       " 122032,\n",
       " 122089,\n",
       " 122093,\n",
       " 122110,\n",
       " 122116,\n",
       " 122117,\n",
       " 122120,\n",
       " 122128,\n",
       " 122160,\n",
       " 122169,\n",
       " 122177,\n",
       " 122180,\n",
       " 122188,\n",
       " 122199,\n",
       " 122214,\n",
       " 122224,\n",
       " 122249,\n",
       " 122254,\n",
       " 122263,\n",
       " 122270,\n",
       " 122283,\n",
       " 122289,\n",
       " 122302,\n",
       " 122313,\n",
       " 122316,\n",
       " 122320,\n",
       " 122330,\n",
       " 122345,\n",
       " 122364,\n",
       " 122369,\n",
       " 122373,\n",
       " 122389,\n",
       " 122401,\n",
       " 122417,\n",
       " 122418,\n",
       " 122428,\n",
       " 122440,\n",
       " 122445,\n",
       " 122469,\n",
       " 122471,\n",
       " 122485,\n",
       " 122486,\n",
       " 122495,\n",
       " 122512,\n",
       " 122527,\n",
       " 122532,\n",
       " 122539,\n",
       " 122559,\n",
       " 122564,\n",
       " 122579,\n",
       " 122591,\n",
       " 122619,\n",
       " 122625,\n",
       " 122627,\n",
       " 122629,\n",
       " 122646,\n",
       " 122652,\n",
       " 122660,\n",
       " 122661,\n",
       " 122667,\n",
       " 122675,\n",
       " 122696,\n",
       " 122707,\n",
       " 122716,\n",
       " 122743,\n",
       " 122747,\n",
       " 122778,\n",
       " 122783,\n",
       " 122802,\n",
       " 122810,\n",
       " 122814,\n",
       " 122815,\n",
       " 122817,\n",
       " 122820,\n",
       " 122839,\n",
       " 122847,\n",
       " 122851,\n",
       " 122871,\n",
       " 122874,\n",
       " 122877,\n",
       " 122897,\n",
       " 122905,\n",
       " 122909,\n",
       " 122928,\n",
       " 122933,\n",
       " 122948,\n",
       " 122991,\n",
       " 122996,\n",
       " 122997]"
      ]
     },
     "execution_count": 77,
     "metadata": {},
     "output_type": "execute_result"
    }
   ],
   "source": [
    "#create an empty list to store indexes from multiple columns\n",
    "index_list=[]\n",
    "for feature in ['UsefulCount']:\n",
    "    index_list.extend(outliers(data_new,feature))\n",
    "index_list"
   ]
  },
  {
   "cell_type": "code",
   "execution_count": 78,
   "id": "0354a7bc",
   "metadata": {},
   "outputs": [],
   "source": [
    "#define a function called 'remove' which returns a cleaned data without outliers\n",
    "def remove(df,ls):\n",
    "    ls=sorted(set(ls)) #to sort and remove multiple copies(to get unique)\n",
    "    df=df.drop(ls)\n",
    "    return df"
   ]
  },
  {
   "cell_type": "code",
   "execution_count": 79,
   "id": "75add66d",
   "metadata": {},
   "outputs": [
    {
     "data": {
      "text/plain": [
       "(2153, 16)"
      ]
     },
     "execution_count": 79,
     "metadata": {},
     "output_type": "execute_result"
    }
   ],
   "source": [
    "data_new.shape"
   ]
  },
  {
   "cell_type": "code",
   "execution_count": 80,
   "id": "9411a522",
   "metadata": {},
   "outputs": [],
   "source": [
    "data_new=remove(data_new,index_list)"
   ]
  },
  {
   "cell_type": "code",
   "execution_count": 81,
   "id": "ac388d28",
   "metadata": {},
   "outputs": [
    {
     "data": {
      "text/plain": [
       "(1914, 16)"
      ]
     },
     "execution_count": 81,
     "metadata": {},
     "output_type": "execute_result"
    }
   ],
   "source": [
    "data_new.shape"
   ]
  },
  {
   "cell_type": "markdown",
   "id": "08b56c8b",
   "metadata": {},
   "source": [
    "# UsefulCount column post outliers removal"
   ]
  },
  {
   "cell_type": "code",
   "execution_count": 82,
   "id": "7db21d47",
   "metadata": {},
   "outputs": [
    {
     "data": {
      "text/plain": [
       "Text(0.5, 1.0, 'Box plot of Useful Count')"
      ]
     },
     "execution_count": 82,
     "metadata": {},
     "output_type": "execute_result"
    },
    {
     "data": {
      "image/png": "[encoded data removed]",
      "text/plain": [
       "<Figure size 640x480 with 1 Axes>"
      ]
     },
     "metadata": {},
     "output_type": "display_data"
    }
   ],
   "source": [
    "plt.boxplot(data_new[\"UsefulCount\"])\n",
    "plt.title('Box plot of Useful Count')\n"
   ]
  },
  {
   "cell_type": "code",
   "execution_count": 83,
   "id": "effd5a02",
   "metadata": {},
   "outputs": [
    {
     "data": {
      "text/html": [
       "<div>\n",
       "<style scoped>\n",
       "    .dataframe tbody tr th:only-of-type {\n",
       "        vertical-align: middle;\n",
       "    }\n",
       "\n",
       "    .dataframe tbody tr th {\n",
       "        vertical-align: top;\n",
       "    }\n",
       "\n",
       "    .dataframe thead th {\n",
       "        text-align: right;\n",
       "    }\n",
       "</style>\n",
       "<table border=\"1\" class=\"dataframe\">\n",
       "  <thead>\n",
       "    <tr style=\"text-align: right;\">\n",
       "      <th></th>\n",
       "      <th>Age</th>\n",
       "      <th>Condition</th>\n",
       "      <th>Date</th>\n",
       "      <th>Drug</th>\n",
       "      <th>DrugId</th>\n",
       "      <th>EaseofUse</th>\n",
       "      <th>Effectiveness</th>\n",
       "      <th>Reviews</th>\n",
       "      <th>Satisfaction</th>\n",
       "      <th>Sex</th>\n",
       "      <th>Sides</th>\n",
       "      <th>UsefulCount</th>\n",
       "      <th>Name</th>\n",
       "      <th>Race</th>\n",
       "      <th>sentiment</th>\n",
       "      <th>sentiment_label</th>\n",
       "    </tr>\n",
       "  </thead>\n",
       "  <tbody>\n",
       "  </tbody>\n",
       "</table>\n",
       "</div>"
      ],
      "text/plain": [
       "Empty DataFrame\n",
       "Columns: [Age, Condition, Date, Drug, DrugId, EaseofUse, Effectiveness, Reviews, Satisfaction, Sex, Sides, UsefulCount, Name, Race, sentiment, sentiment_label]\n",
       "Index: []"
      ]
     },
     "execution_count": 83,
     "metadata": {},
     "output_type": "execute_result"
    }
   ],
   "source": [
    "data_new[data_new['Satisfaction'] > 5]"
   ]
  },
  {
   "cell_type": "code",
   "execution_count": null,
   "id": "ef65a3b1",
   "metadata": {},
   "outputs": [],
   "source": []
  },
  {
   "cell_type": "markdown",
   "id": "3d472759",
   "metadata": {},
   "source": [
    "# Feature engineering"
   ]
  },
  {
   "cell_type": "raw",
   "id": "192093fd",
   "metadata": {},
   "source": [
    "Creation of a new SideEffects column"
   ]
  },
  {
   "cell_type": "code",
   "execution_count": 85,
   "id": "3e52c20c",
   "metadata": {},
   "outputs": [],
   "source": [
    "data1=np.where(data_new['Satisfaction'] == 1.0, \"Nil\", data_new['Satisfaction'])\n",
    "data1=np.where(data_new['Satisfaction'] == 2.0, \"Mild\",data1)\n",
    "data1=np.where(data_new['Satisfaction'] == 3.0, \"Moderate\", data1)\n",
    "data1=np.where(data_new['Satisfaction'] == 4.0, \"Severe\", data1)\n",
    "data1=np.where(data_new['Satisfaction'] == 5.0, \"Extreme\",data1)"
   ]
  },
  {
   "cell_type": "code",
   "execution_count": 86,
   "id": "24f85995",
   "metadata": {},
   "outputs": [],
   "source": [
    "data_new['SideEffects']=data1"
   ]
  },
  {
   "cell_type": "markdown",
   "id": "649e1ea1",
   "metadata": {},
   "source": [
    "# Since DrugId is the same, dropping the column"
   ]
  },
  {
   "cell_type": "code",
   "execution_count": 87,
   "id": "d6cb8f84",
   "metadata": {},
   "outputs": [],
   "source": [
    "data_new.drop(['Satisfaction','DrugId'], inplace=True, axis=1)"
   ]
  },
  {
   "cell_type": "code",
   "execution_count": 88,
   "id": "097d998c",
   "metadata": {},
   "outputs": [
    {
     "data": {
      "text/html": [
       "<div>\n",
       "<style scoped>\n",
       "    .dataframe tbody tr th:only-of-type {\n",
       "        vertical-align: middle;\n",
       "    }\n",
       "\n",
       "    .dataframe tbody tr th {\n",
       "        vertical-align: top;\n",
       "    }\n",
       "\n",
       "    .dataframe thead th {\n",
       "        text-align: right;\n",
       "    }\n",
       "</style>\n",
       "<table border=\"1\" class=\"dataframe\">\n",
       "  <thead>\n",
       "    <tr style=\"text-align: right;\">\n",
       "      <th></th>\n",
       "      <th>Age</th>\n",
       "      <th>Condition</th>\n",
       "      <th>Date</th>\n",
       "      <th>Drug</th>\n",
       "      <th>EaseofUse</th>\n",
       "      <th>Effectiveness</th>\n",
       "      <th>Reviews</th>\n",
       "      <th>Sex</th>\n",
       "      <th>Sides</th>\n",
       "      <th>UsefulCount</th>\n",
       "      <th>Name</th>\n",
       "      <th>Race</th>\n",
       "      <th>sentiment</th>\n",
       "      <th>sentiment_label</th>\n",
       "      <th>SideEffects</th>\n",
       "    </tr>\n",
       "  </thead>\n",
       "  <tbody>\n",
       "    <tr>\n",
       "      <th>120403</th>\n",
       "      <td>55-64</td>\n",
       "      <td>Inflammation of the Artery in the Temple Area</td>\n",
       "      <td>1/1/2020</td>\n",
       "      <td>prednisone</td>\n",
       "      <td>5.0</td>\n",
       "      <td>4.0</td>\n",
       "      <td>CVS stated. Claims regarding that it does not ...</td>\n",
       "      <td>Female</td>\n",
       "      <td>nausea vomiting loss appetite heartburn troubl...</td>\n",
       "      <td>0.0</td>\n",
       "      <td>Frank Grant</td>\n",
       "      <td>African American</td>\n",
       "      <td>0.150000</td>\n",
       "      <td>positive</td>\n",
       "      <td>Mild</td>\n",
       "    </tr>\n",
       "    <tr>\n",
       "      <th>120404</th>\n",
       "      <td>65-74</td>\n",
       "      <td>Destruction of Red Blood Cells by Body's Own A...</td>\n",
       "      <td>10/1/2019</td>\n",
       "      <td>prednisone</td>\n",
       "      <td>4.0</td>\n",
       "      <td>4.0</td>\n",
       "      <td>It has taken 9 months to taper down from 60mg ...</td>\n",
       "      <td>Male</td>\n",
       "      <td>nausea vomiting loss appetite heartburn troubl...</td>\n",
       "      <td>0.0</td>\n",
       "      <td>Robin Lamb</td>\n",
       "      <td>Hispanic</td>\n",
       "      <td>-0.138889</td>\n",
       "      <td>negative</td>\n",
       "      <td>Severe</td>\n",
       "    </tr>\n",
       "    <tr>\n",
       "      <th>120409</th>\n",
       "      <td>35-44</td>\n",
       "      <td>Myasthenia Gravis</td>\n",
       "      <td>9/8/2019</td>\n",
       "      <td>prednisone</td>\n",
       "      <td>1.0</td>\n",
       "      <td>1.0</td>\n",
       "      <td>This med make you sicker and only controls sym...</td>\n",
       "      <td>Male</td>\n",
       "      <td>nausea vomiting loss appetite heartburn troubl...</td>\n",
       "      <td>0.0</td>\n",
       "      <td>Sally Mcguire</td>\n",
       "      <td>Hispanic</td>\n",
       "      <td>-0.226042</td>\n",
       "      <td>negative</td>\n",
       "      <td>Nil</td>\n",
       "    </tr>\n",
       "    <tr>\n",
       "      <th>120413</th>\n",
       "      <td>45-54</td>\n",
       "      <td>Other</td>\n",
       "      <td>8/14/2019</td>\n",
       "      <td>prednisone</td>\n",
       "      <td>5.0</td>\n",
       "      <td>5.0</td>\n",
       "      <td>Threw out my back - BAD - right before Christm...</td>\n",
       "      <td>Male</td>\n",
       "      <td>nausea vomiting loss appetite heartburn troubl...</td>\n",
       "      <td>5.0</td>\n",
       "      <td>Jo Scott</td>\n",
       "      <td>Caucasian</td>\n",
       "      <td>-0.056803</td>\n",
       "      <td>negative</td>\n",
       "      <td>Extreme</td>\n",
       "    </tr>\n",
       "    <tr>\n",
       "      <th>120419</th>\n",
       "      <td>45-54</td>\n",
       "      <td>Muscle or Bone Disorder</td>\n",
       "      <td>7/20/2019</td>\n",
       "      <td>prednisone</td>\n",
       "      <td>3.0</td>\n",
       "      <td>1.0</td>\n",
       "      <td>Put me on a high dosage for arthritis.  I imme...</td>\n",
       "      <td>Male</td>\n",
       "      <td>nausea vomiting loss appetite heartburn troubl...</td>\n",
       "      <td>0.0</td>\n",
       "      <td>David Jones</td>\n",
       "      <td>Asian</td>\n",
       "      <td>0.058571</td>\n",
       "      <td>positive</td>\n",
       "      <td>Nil</td>\n",
       "    </tr>\n",
       "  </tbody>\n",
       "</table>\n",
       "</div>"
      ],
      "text/plain": [
       "          Age                                          Condition       Date  \\\n",
       "120403  55-64      Inflammation of the Artery in the Temple Area   1/1/2020   \n",
       "120404  65-74  Destruction of Red Blood Cells by Body's Own A...  10/1/2019   \n",
       "120409  35-44                                  Myasthenia Gravis   9/8/2019   \n",
       "120413  45-54                                              Other  8/14/2019   \n",
       "120419  45-54                            Muscle or Bone Disorder  7/20/2019   \n",
       "\n",
       "              Drug  EaseofUse  Effectiveness  \\\n",
       "120403  prednisone        5.0            4.0   \n",
       "120404  prednisone        4.0            4.0   \n",
       "120409  prednisone        1.0            1.0   \n",
       "120413  prednisone        5.0            5.0   \n",
       "120419  prednisone        3.0            1.0   \n",
       "\n",
       "                                                  Reviews     Sex  \\\n",
       "120403  CVS stated. Claims regarding that it does not ...  Female   \n",
       "120404  It has taken 9 months to taper down from 60mg ...    Male   \n",
       "120409  This med make you sicker and only controls sym...    Male   \n",
       "120413  Threw out my back - BAD - right before Christm...    Male   \n",
       "120419  Put me on a high dosage for arthritis.  I imme...    Male   \n",
       "\n",
       "                                                    Sides  UsefulCount  \\\n",
       "120403  nausea vomiting loss appetite heartburn troubl...          0.0   \n",
       "120404  nausea vomiting loss appetite heartburn troubl...          0.0   \n",
       "120409  nausea vomiting loss appetite heartburn troubl...          0.0   \n",
       "120413  nausea vomiting loss appetite heartburn troubl...          5.0   \n",
       "120419  nausea vomiting loss appetite heartburn troubl...          0.0   \n",
       "\n",
       "                 Name              Race  sentiment sentiment_label SideEffects  \n",
       "120403    Frank Grant  African American   0.150000        positive        Mild  \n",
       "120404     Robin Lamb          Hispanic  -0.138889        negative      Severe  \n",
       "120409  Sally Mcguire          Hispanic  -0.226042        negative         Nil  \n",
       "120413       Jo Scott         Caucasian  -0.056803        negative     Extreme  \n",
       "120419    David Jones             Asian   0.058571        positive         Nil  "
      ]
     },
     "execution_count": 88,
     "metadata": {},
     "output_type": "execute_result"
    }
   ],
   "source": [
    "data_new.head()"
   ]
  },
  {
   "cell_type": "code",
   "execution_count": 89,
   "id": "79de8175",
   "metadata": {},
   "outputs": [],
   "source": [
    "data_copy = data_new.copy()"
   ]
  },
  {
   "cell_type": "markdown",
   "id": "b9115e5a",
   "metadata": {},
   "source": [
    "# Feature reduction"
   ]
  },
  {
   "cell_type": "markdown",
   "id": "08ef4d59",
   "metadata": {},
   "source": [
    "# Correlation analysis"
   ]
  },
  {
   "cell_type": "markdown",
   "id": "b809b1a3",
   "metadata": {},
   "source": [
    "Correlation matrix is plotted to check the relationship between variables"
   ]
  },
  {
   "cell_type": "code",
   "execution_count": 90,
   "id": "796ab2da",
   "metadata": {},
   "outputs": [
    {
     "data": {
      "text/plain": [
       "<AxesSubplot:>"
      ]
     },
     "execution_count": 90,
     "metadata": {},
     "output_type": "execute_result"
    },
    {
     "data": {
      "image/png": "[encoded data removed]",
      "text/plain": [
       "<Figure size 1000x800 with 2 Axes>"
      ]
     },
     "metadata": {},
     "output_type": "display_data"
    }
   ],
   "source": [
    "corrmatrix = data_new.corr()\n",
    "plt.figure(figsize=(10,8))\n",
    "sns.heatmap(corrmatrix,vmin=-0.4 , vmax=0.9, annot=True, cmap='YlGnBu' , linewidth=0.2)"
   ]
  },
  {
   "cell_type": "markdown",
   "id": "e2af0975",
   "metadata": {},
   "source": [
    "# Here, being common, dropped the Drug, Sides columns. The other columns such as Date, Name, Reviews and UsefulCount are also dropped since these doesn't deal with side effects of the drug."
   ]
  },
  {
   "cell_type": "code",
   "execution_count": 91,
   "id": "ed48735b",
   "metadata": {},
   "outputs": [
    {
     "data": {
      "text/html": [
       "<div>\n",
       "<style scoped>\n",
       "    .dataframe tbody tr th:only-of-type {\n",
       "        vertical-align: middle;\n",
       "    }\n",
       "\n",
       "    .dataframe tbody tr th {\n",
       "        vertical-align: top;\n",
       "    }\n",
       "\n",
       "    .dataframe thead th {\n",
       "        text-align: right;\n",
       "    }\n",
       "</style>\n",
       "<table border=\"1\" class=\"dataframe\">\n",
       "  <thead>\n",
       "    <tr style=\"text-align: right;\">\n",
       "      <th></th>\n",
       "      <th>Age</th>\n",
       "      <th>Condition</th>\n",
       "      <th>EaseofUse</th>\n",
       "      <th>Effectiveness</th>\n",
       "      <th>Sex</th>\n",
       "      <th>Race</th>\n",
       "      <th>sentiment</th>\n",
       "      <th>sentiment_label</th>\n",
       "      <th>SideEffects</th>\n",
       "    </tr>\n",
       "  </thead>\n",
       "  <tbody>\n",
       "    <tr>\n",
       "      <th>0</th>\n",
       "      <td>55-64</td>\n",
       "      <td>Inflammation of the Artery in the Temple Area</td>\n",
       "      <td>5.0</td>\n",
       "      <td>4.0</td>\n",
       "      <td>Female</td>\n",
       "      <td>African American</td>\n",
       "      <td>0.150000</td>\n",
       "      <td>positive</td>\n",
       "      <td>Mild</td>\n",
       "    </tr>\n",
       "    <tr>\n",
       "      <th>1</th>\n",
       "      <td>65-74</td>\n",
       "      <td>Destruction of Red Blood Cells by Body's Own A...</td>\n",
       "      <td>4.0</td>\n",
       "      <td>4.0</td>\n",
       "      <td>Male</td>\n",
       "      <td>Hispanic</td>\n",
       "      <td>-0.138889</td>\n",
       "      <td>negative</td>\n",
       "      <td>Severe</td>\n",
       "    </tr>\n",
       "    <tr>\n",
       "      <th>2</th>\n",
       "      <td>35-44</td>\n",
       "      <td>Myasthenia Gravis</td>\n",
       "      <td>1.0</td>\n",
       "      <td>1.0</td>\n",
       "      <td>Male</td>\n",
       "      <td>Hispanic</td>\n",
       "      <td>-0.226042</td>\n",
       "      <td>negative</td>\n",
       "      <td>Nil</td>\n",
       "    </tr>\n",
       "    <tr>\n",
       "      <th>3</th>\n",
       "      <td>45-54</td>\n",
       "      <td>Other</td>\n",
       "      <td>5.0</td>\n",
       "      <td>5.0</td>\n",
       "      <td>Male</td>\n",
       "      <td>Caucasian</td>\n",
       "      <td>-0.056803</td>\n",
       "      <td>negative</td>\n",
       "      <td>Extreme</td>\n",
       "    </tr>\n",
       "    <tr>\n",
       "      <th>4</th>\n",
       "      <td>45-54</td>\n",
       "      <td>Muscle or Bone Disorder</td>\n",
       "      <td>3.0</td>\n",
       "      <td>1.0</td>\n",
       "      <td>Male</td>\n",
       "      <td>Asian</td>\n",
       "      <td>0.058571</td>\n",
       "      <td>positive</td>\n",
       "      <td>Nil</td>\n",
       "    </tr>\n",
       "  </tbody>\n",
       "</table>\n",
       "</div>"
      ],
      "text/plain": [
       "     Age                                          Condition  EaseofUse  \\\n",
       "0  55-64      Inflammation of the Artery in the Temple Area        5.0   \n",
       "1  65-74  Destruction of Red Blood Cells by Body's Own A...        4.0   \n",
       "2  35-44                                  Myasthenia Gravis        1.0   \n",
       "3  45-54                                              Other        5.0   \n",
       "4  45-54                            Muscle or Bone Disorder        3.0   \n",
       "\n",
       "   Effectiveness     Sex              Race  sentiment sentiment_label  \\\n",
       "0            4.0  Female  African American   0.150000        positive   \n",
       "1            4.0    Male          Hispanic  -0.138889        negative   \n",
       "2            1.0    Male          Hispanic  -0.226042        negative   \n",
       "3            5.0    Male         Caucasian  -0.056803        negative   \n",
       "4            1.0    Male             Asian   0.058571        positive   \n",
       "\n",
       "  SideEffects  \n",
       "0        Mild  \n",
       "1      Severe  \n",
       "2         Nil  \n",
       "3     Extreme  \n",
       "4         Nil  "
      ]
     },
     "execution_count": 91,
     "metadata": {},
     "output_type": "execute_result"
    }
   ],
   "source": [
    "data_new=data_new.drop(columns = ['Name','Drug','Date','Sides','Reviews','UsefulCount'],axis=1)\n",
    "data_new=data_new.reset_index(drop=True)\n",
    "data_new.head()"
   ]
  },
  {
   "cell_type": "code",
   "execution_count": 92,
   "id": "49758100",
   "metadata": {},
   "outputs": [
    {
     "data": {
      "text/plain": [
       "(1914, 9)"
      ]
     },
     "execution_count": 92,
     "metadata": {},
     "output_type": "execute_result"
    }
   ],
   "source": [
    "data_new.shape"
   ]
  },
  {
   "cell_type": "markdown",
   "id": "aad8a3a0",
   "metadata": {},
   "source": [
    "# Encoding"
   ]
  },
  {
   "cell_type": "code",
   "execution_count": 93,
   "id": "64da87d4",
   "metadata": {},
   "outputs": [
    {
     "name": "stdout",
     "output_type": "stream",
     "text": [
      "<class 'pandas.core.frame.DataFrame'>\n",
      "RangeIndex: 1914 entries, 0 to 1913\n",
      "Data columns (total 9 columns):\n",
      " #   Column           Non-Null Count  Dtype   \n",
      "---  ------           --------------  -----   \n",
      " 0   Age              1914 non-null   category\n",
      " 1   Condition        1914 non-null   category\n",
      " 2   EaseofUse        1914 non-null   float64 \n",
      " 3   Effectiveness    1914 non-null   float64 \n",
      " 4   Sex              1914 non-null   category\n",
      " 5   Race             1914 non-null   category\n",
      " 6   sentiment        1914 non-null   float64 \n",
      " 7   sentiment_label  1914 non-null   category\n",
      " 8   SideEffects      1914 non-null   category\n",
      "dtypes: category(6), float64(3)\n",
      "memory usage: 60.0 KB\n"
     ]
    }
   ],
   "source": [
    "#Finding categorical columns and chnaging datatype\n",
    "for cl in data_new.select_dtypes(include = ['object']):\n",
    "    data_new[cl]=data_new[cl].astype('category')\n",
    "data_new.info()"
   ]
  },
  {
   "cell_type": "code",
   "execution_count": 94,
   "id": "ed632dc1",
   "metadata": {},
   "outputs": [],
   "source": [
    "from sklearn.preprocessing import LabelEncoder\n",
    "label=LabelEncoder()"
   ]
  },
  {
   "cell_type": "code",
   "execution_count": 95,
   "id": "013da331",
   "metadata": {},
   "outputs": [
    {
     "name": "stdout",
     "output_type": "stream",
     "text": [
      "<class 'pandas.core.frame.DataFrame'>\n",
      "RangeIndex: 1914 entries, 0 to 1913\n",
      "Data columns (total 9 columns):\n",
      " #   Column           Non-Null Count  Dtype   \n",
      "---  ------           --------------  -----   \n",
      " 0   Age              1914 non-null   category\n",
      " 1   Condition        1914 non-null   category\n",
      " 2   EaseofUse        1914 non-null   float64 \n",
      " 3   Effectiveness    1914 non-null   float64 \n",
      " 4   Sex              1914 non-null   category\n",
      " 5   Race             1914 non-null   category\n",
      " 6   sentiment        1914 non-null   float64 \n",
      " 7   sentiment_label  1914 non-null   category\n",
      " 8   SideEffects      1914 non-null   category\n",
      "dtypes: category(6), float64(3)\n",
      "memory usage: 60.0 KB\n"
     ]
    }
   ],
   "source": [
    "data_new.info()"
   ]
  },
  {
   "cell_type": "code",
   "execution_count": 96,
   "id": "701baa68",
   "metadata": {},
   "outputs": [
    {
     "data": {
      "text/plain": [
       "Index(['Age', 'Condition', 'EaseofUse', 'Effectiveness', 'Sex', 'Race',\n",
       "       'sentiment', 'sentiment_label', 'SideEffects'],\n",
       "      dtype='object')"
      ]
     },
     "execution_count": 96,
     "metadata": {},
     "output_type": "execute_result"
    }
   ],
   "source": [
    "data_new.columns"
   ]
  },
  {
   "cell_type": "code",
   "execution_count": 97,
   "id": "d4b508d6",
   "metadata": {},
   "outputs": [
    {
     "data": {
      "text/html": [
       "<div>\n",
       "<style scoped>\n",
       "    .dataframe tbody tr th:only-of-type {\n",
       "        vertical-align: middle;\n",
       "    }\n",
       "\n",
       "    .dataframe tbody tr th {\n",
       "        vertical-align: top;\n",
       "    }\n",
       "\n",
       "    .dataframe thead th {\n",
       "        text-align: right;\n",
       "    }\n",
       "</style>\n",
       "<table border=\"1\" class=\"dataframe\">\n",
       "  <thead>\n",
       "    <tr style=\"text-align: right;\">\n",
       "      <th></th>\n",
       "      <th>Age</th>\n",
       "      <th>Condition</th>\n",
       "      <th>EaseofUse</th>\n",
       "      <th>Effectiveness</th>\n",
       "      <th>Sex</th>\n",
       "      <th>Race</th>\n",
       "      <th>sentiment</th>\n",
       "      <th>sentiment_label</th>\n",
       "      <th>SideEffects</th>\n",
       "    </tr>\n",
       "  </thead>\n",
       "  <tbody>\n",
       "    <tr>\n",
       "      <th>0</th>\n",
       "      <td>55-64</td>\n",
       "      <td>Inflammation of the Artery in the Temple Area</td>\n",
       "      <td>5.0</td>\n",
       "      <td>4.0</td>\n",
       "      <td>Female</td>\n",
       "      <td>African American</td>\n",
       "      <td>0.150000</td>\n",
       "      <td>positive</td>\n",
       "      <td>Mild</td>\n",
       "    </tr>\n",
       "    <tr>\n",
       "      <th>1</th>\n",
       "      <td>65-74</td>\n",
       "      <td>Destruction of Red Blood Cells by Body's Own A...</td>\n",
       "      <td>4.0</td>\n",
       "      <td>4.0</td>\n",
       "      <td>Male</td>\n",
       "      <td>Hispanic</td>\n",
       "      <td>-0.138889</td>\n",
       "      <td>negative</td>\n",
       "      <td>Severe</td>\n",
       "    </tr>\n",
       "    <tr>\n",
       "      <th>2</th>\n",
       "      <td>35-44</td>\n",
       "      <td>Myasthenia Gravis</td>\n",
       "      <td>1.0</td>\n",
       "      <td>1.0</td>\n",
       "      <td>Male</td>\n",
       "      <td>Hispanic</td>\n",
       "      <td>-0.226042</td>\n",
       "      <td>negative</td>\n",
       "      <td>Nil</td>\n",
       "    </tr>\n",
       "    <tr>\n",
       "      <th>3</th>\n",
       "      <td>45-54</td>\n",
       "      <td>Other</td>\n",
       "      <td>5.0</td>\n",
       "      <td>5.0</td>\n",
       "      <td>Male</td>\n",
       "      <td>Caucasian</td>\n",
       "      <td>-0.056803</td>\n",
       "      <td>negative</td>\n",
       "      <td>Extreme</td>\n",
       "    </tr>\n",
       "    <tr>\n",
       "      <th>4</th>\n",
       "      <td>45-54</td>\n",
       "      <td>Muscle or Bone Disorder</td>\n",
       "      <td>3.0</td>\n",
       "      <td>1.0</td>\n",
       "      <td>Male</td>\n",
       "      <td>Asian</td>\n",
       "      <td>0.058571</td>\n",
       "      <td>positive</td>\n",
       "      <td>Nil</td>\n",
       "    </tr>\n",
       "  </tbody>\n",
       "</table>\n",
       "</div>"
      ],
      "text/plain": [
       "     Age                                          Condition  EaseofUse  \\\n",
       "0  55-64      Inflammation of the Artery in the Temple Area        5.0   \n",
       "1  65-74  Destruction of Red Blood Cells by Body's Own A...        4.0   \n",
       "2  35-44                                  Myasthenia Gravis        1.0   \n",
       "3  45-54                                              Other        5.0   \n",
       "4  45-54                            Muscle or Bone Disorder        3.0   \n",
       "\n",
       "   Effectiveness     Sex              Race  sentiment sentiment_label  \\\n",
       "0            4.0  Female  African American   0.150000        positive   \n",
       "1            4.0    Male          Hispanic  -0.138889        negative   \n",
       "2            1.0    Male          Hispanic  -0.226042        negative   \n",
       "3            5.0    Male         Caucasian  -0.056803        negative   \n",
       "4            1.0    Male             Asian   0.058571        positive   \n",
       "\n",
       "  SideEffects  \n",
       "0        Mild  \n",
       "1      Severe  \n",
       "2         Nil  \n",
       "3     Extreme  \n",
       "4         Nil  "
      ]
     },
     "execution_count": 97,
     "metadata": {},
     "output_type": "execute_result"
    }
   ],
   "source": [
    "data_new.head()"
   ]
  },
  {
   "cell_type": "code",
   "execution_count": 98,
   "id": "0dbabd08",
   "metadata": {},
   "outputs": [],
   "source": [
    "from sklearn.preprocessing import LabelEncoder\n",
    "label=LabelEncoder()\n",
    "#for col in ['SideEffects', 'Drug','Age','Sex']:\n",
    "for col in ['Race','Age','Sex','Condition','SideEffects','sentiment','sentiment_label']:   \n",
    "    data_new[col]=label.fit_transform((data_new[col]).astype(str))\n",
    "    \n",
    "data_label=data_new"
   ]
  },
  {
   "cell_type": "code",
   "execution_count": 99,
   "id": "7c8219d0",
   "metadata": {},
   "outputs": [
    {
     "data": {
      "text/html": [
       "<div>\n",
       "<style scoped>\n",
       "    .dataframe tbody tr th:only-of-type {\n",
       "        vertical-align: middle;\n",
       "    }\n",
       "\n",
       "    .dataframe tbody tr th {\n",
       "        vertical-align: top;\n",
       "    }\n",
       "\n",
       "    .dataframe thead th {\n",
       "        text-align: right;\n",
       "    }\n",
       "</style>\n",
       "<table border=\"1\" class=\"dataframe\">\n",
       "  <thead>\n",
       "    <tr style=\"text-align: right;\">\n",
       "      <th></th>\n",
       "      <th>Age</th>\n",
       "      <th>Condition</th>\n",
       "      <th>EaseofUse</th>\n",
       "      <th>Effectiveness</th>\n",
       "      <th>Sex</th>\n",
       "      <th>Race</th>\n",
       "      <th>sentiment</th>\n",
       "      <th>sentiment_label</th>\n",
       "      <th>SideEffects</th>\n",
       "    </tr>\n",
       "  </thead>\n",
       "  <tbody>\n",
       "    <tr>\n",
       "      <th>0</th>\n",
       "      <td>7</td>\n",
       "      <td>45</td>\n",
       "      <td>5.0</td>\n",
       "      <td>4.0</td>\n",
       "      <td>0</td>\n",
       "      <td>0</td>\n",
       "      <td>830</td>\n",
       "      <td>2</td>\n",
       "      <td>1</td>\n",
       "    </tr>\n",
       "    <tr>\n",
       "      <th>1</th>\n",
       "      <td>8</td>\n",
       "      <td>27</td>\n",
       "      <td>4.0</td>\n",
       "      <td>4.0</td>\n",
       "      <td>1</td>\n",
       "      <td>3</td>\n",
       "      <td>262</td>\n",
       "      <td>0</td>\n",
       "      <td>4</td>\n",
       "    </tr>\n",
       "    <tr>\n",
       "      <th>2</th>\n",
       "      <td>5</td>\n",
       "      <td>60</td>\n",
       "      <td>1.0</td>\n",
       "      <td>1.0</td>\n",
       "      <td>1</td>\n",
       "      <td>3</td>\n",
       "      <td>361</td>\n",
       "      <td>0</td>\n",
       "      <td>3</td>\n",
       "    </tr>\n",
       "    <tr>\n",
       "      <th>3</th>\n",
       "      <td>6</td>\n",
       "      <td>65</td>\n",
       "      <td>5.0</td>\n",
       "      <td>5.0</td>\n",
       "      <td>1</td>\n",
       "      <td>2</td>\n",
       "      <td>139</td>\n",
       "      <td>0</td>\n",
       "      <td>0</td>\n",
       "    </tr>\n",
       "    <tr>\n",
       "      <th>4</th>\n",
       "      <td>6</td>\n",
       "      <td>59</td>\n",
       "      <td>3.0</td>\n",
       "      <td>1.0</td>\n",
       "      <td>1</td>\n",
       "      <td>1</td>\n",
       "      <td>653</td>\n",
       "      <td>2</td>\n",
       "      <td>3</td>\n",
       "    </tr>\n",
       "  </tbody>\n",
       "</table>\n",
       "</div>"
      ],
      "text/plain": [
       "   Age  Condition  EaseofUse  Effectiveness  Sex  Race  sentiment  \\\n",
       "0    7         45        5.0            4.0    0     0        830   \n",
       "1    8         27        4.0            4.0    1     3        262   \n",
       "2    5         60        1.0            1.0    1     3        361   \n",
       "3    6         65        5.0            5.0    1     2        139   \n",
       "4    6         59        3.0            1.0    1     1        653   \n",
       "\n",
       "   sentiment_label  SideEffects  \n",
       "0                2            1  \n",
       "1                0            4  \n",
       "2                0            3  \n",
       "3                0            0  \n",
       "4                2            3  "
      ]
     },
     "execution_count": 99,
     "metadata": {},
     "output_type": "execute_result"
    }
   ],
   "source": [
    "data_new.head()"
   ]
  },
  {
   "cell_type": "code",
   "execution_count": 100,
   "id": "166320f9",
   "metadata": {},
   "outputs": [
    {
     "data": {
      "text/plain": [
       "(1914, 9)"
      ]
     },
     "execution_count": 100,
     "metadata": {},
     "output_type": "execute_result"
    }
   ],
   "source": [
    "data_new.shape"
   ]
  },
  {
   "cell_type": "markdown",
   "id": "a8bcb780",
   "metadata": {},
   "source": [
    "# Scaling"
   ]
  },
  {
   "cell_type": "code",
   "execution_count": 101,
   "id": "1ba9feb8",
   "metadata": {},
   "outputs": [],
   "source": [
    "from sklearn.preprocessing import StandardScaler\n",
    "ss=StandardScaler()\n",
    "scale=['Effectiveness','EaseofUse']\n",
    "data_new[scale] = ss.fit_transform(data_new[scale])"
   ]
  },
  {
   "cell_type": "code",
   "execution_count": 102,
   "id": "6f04b3ac",
   "metadata": {},
   "outputs": [
    {
     "data": {
      "text/plain": [
       "(1914, 9)"
      ]
     },
     "execution_count": 102,
     "metadata": {},
     "output_type": "execute_result"
    }
   ],
   "source": [
    "data_new.shape"
   ]
  },
  {
   "cell_type": "code",
   "execution_count": 103,
   "id": "bf4730c1",
   "metadata": {},
   "outputs": [],
   "source": [
    "#data_new.to_csv('drug_topamax_modelling.csv', index=False)\n",
    "data_model = data_new.copy()"
   ]
  },
  {
   "cell_type": "markdown",
   "id": "9adc0836",
   "metadata": {},
   "source": [
    "# Exploratory Data Analysis"
   ]
  },
  {
   "cell_type": "markdown",
   "id": "df5c7e28",
   "metadata": {},
   "source": [
    "# 1. Top 20 Drugs"
   ]
  },
  {
   "cell_type": "code",
   "execution_count": 104,
   "id": "2a545423",
   "metadata": {},
   "outputs": [
    {
     "data": {
      "image/png": "[encoded data removed]",
      "text/plain": [
       "<Figure size 640x480 with 1 Axes>"
      ]
     },
     "metadata": {},
     "output_type": "display_data"
    }
   ],
   "source": [
    "data1= df['Drug'].value_counts().head(20).reset_index()\n",
    "data1.columns = ['Drug', 'Users']\n",
    "sns.barplot(data=data1, x = 'Drug', y = 'Users')\n",
    "plt.suptitle(\"Top 20 Drugs\")\n",
    "plt.xticks(rotation=90,fontsize=10)\n",
    "plt.show()"
   ]
  },
  {
   "cell_type": "markdown",
   "id": "7f6b9acb",
   "metadata": {},
   "source": [
    "# 2. Top 20 Conditions"
   ]
  },
  {
   "cell_type": "code",
   "execution_count": null,
   "id": "50e037b2",
   "metadata": {},
   "outputs": [],
   "source": [
    "df['Condition'].value_counts().nlargest(20).plot(kind='bar',figsize=(8,8))\n",
    "plt.suptitle(\"Top 20 Conditions\")\n",
    "plt.xlabel('Conditions')\n",
    "plt.ylabel('Users')"
   ]
  },
  {
   "cell_type": "markdown",
   "id": "51be401b",
   "metadata": {},
   "source": [
    "# 3. Conditions - Prednisone"
   ]
  },
  {
   "cell_type": "code",
   "execution_count": null,
   "id": "f67b03f2",
   "metadata": {},
   "outputs": [],
   "source": [
    "drug_prednisone['Condition'].value_counts().nlargest(12).plot(kind='bar',figsize=(8,8))\n",
    "plt.suptitle(\"prednisone Conditions\")\n",
    "plt.xlabel('Condition')\n",
    "plt.ylabel('Count')"
   ]
  },
  {
   "cell_type": "markdown",
   "id": "f95db7ee",
   "metadata": {},
   "source": [
    "# Users by Gender - prednisone"
   ]
  },
  {
   "cell_type": "code",
   "execution_count": null,
   "id": "3e062f14",
   "metadata": {},
   "outputs": [],
   "source": [
    "plt.figure(figsize = (4,4))\n",
    "s=sns.countplot(x='Sex', data=data_copy)\n",
    "plt.title('Users by Gender', fontsize=15)\n",
    "plt.xlabel('Sex')\n",
    "plt.ylabel('Count') \n",
    "plt.show()"
   ]
  },
  {
   "cell_type": "markdown",
   "id": "3d6ab2b2",
   "metadata": {},
   "source": [
    "## 5. Users by Race - prednisone"
   ]
  },
  {
   "cell_type": "code",
   "execution_count": null,
   "id": "d3620f59",
   "metadata": {},
   "outputs": [],
   "source": [
    "data_copy['Race'].value_counts().plot(kind='bar')\n",
    "plt.title(\"Race\", fontsize = 10)\n",
    "plt.xlabel(\"Race\", fontsize = 10)\n",
    "plt.ylabel(\"Count\", fontsize = 10)"
   ]
  },
  {
   "cell_type": "markdown",
   "id": "206ed309",
   "metadata": {},
   "source": [
    "## 6. Users by Race and Gender"
   ]
  },
  {
   "cell_type": "code",
   "execution_count": null,
   "id": "2ee398d3",
   "metadata": {},
   "outputs": [],
   "source": [
    "sns.countplot(x='Race',hue='Sex',data=data_copy)\n",
    "plt.title(\"Users by Race and Gender\", fontsize = 10)"
   ]
  },
  {
   "cell_type": "markdown",
   "id": "1e06c954",
   "metadata": {},
   "source": [
    "## 7. Users by Age and Gender"
   ]
  },
  {
   "cell_type": "code",
   "execution_count": null,
   "id": "b6592d90",
   "metadata": {},
   "outputs": [],
   "source": [
    "plt.figure(figsize=(10, 6))\n",
    "sns.countplot(x='Age',hue='Sex',data=data_copy)\n",
    "plt.title(\"Users by Age and Gender\", fontsize = 10)"
   ]
  },
  {
   "cell_type": "markdown",
   "id": "e9b062d7",
   "metadata": {},
   "source": [
    "## 8. Correlation Heatmap"
   ]
  },
  {
   "cell_type": "code",
   "execution_count": null,
   "id": "5ff4b239",
   "metadata": {},
   "outputs": [],
   "source": [
    "# heatmap of the data for checking the correlation\n",
    "corrmatrix = data_copy.corr()\n",
    "plt.figure(figsize=(8,6))\n",
    "sns.heatmap(corrmatrix,vmin=-0.4 , vmax=0.9, annot=True, cmap='YlGnBu' , linewidth=0.2)"
   ]
  },
  {
   "cell_type": "markdown",
   "id": "58501589",
   "metadata": {},
   "source": [
    "## 9. Yearly Reviews - prednisone"
   ]
  },
  {
   "cell_type": "code",
   "execution_count": null,
   "id": "93e1d677",
   "metadata": {},
   "outputs": [],
   "source": [
    "data_copy['Date'] = pd.to_datetime(data_copy['Date'], errors = 'coerce')"
   ]
  },
  {
   "cell_type": "code",
   "execution_count": null,
   "id": "5bc6dc22",
   "metadata": {},
   "outputs": [],
   "source": [
    "#extracting year from Date\n",
    "data_copy['Year'] = data_copy['Date'].dt.year"
   ]
  },
  {
   "cell_type": "code",
   "execution_count": null,
   "id": "1a9e3360",
   "metadata": {},
   "outputs": [],
   "source": [
    "plt.figure(figsize=(10,4))\n",
    "sns.countplot(data_copy['Year'], palette ='colorblind')\n",
    "plt.title('Number of yearly reviews', fontsize = 15)\n",
    "plt.xlabel('Year', fontsize = 15)\n",
    "plt.ylabel('Count of Reviews', fontsize = 15)\n",
    "plt.show()"
   ]
  },
  {
   "cell_type": "markdown",
   "id": "aa2a599b",
   "metadata": {},
   "source": [
    "## 10. Effectiveness"
   ]
  },
  {
   "cell_type": "code",
   "execution_count": null,
   "id": "8e03afdd",
   "metadata": {},
   "outputs": [],
   "source": [
    "data_copy['Effectiveness'].value_counts().plot(kind='bar')\n",
    "plt.title(\"Effectiveness\", fontsize = 10)\n",
    "plt.xlabel(\"Effectiveness\", fontsize = 10)\n",
    "plt.ylabel(\"Count\", fontsize = 10)"
   ]
  },
  {
   "cell_type": "markdown",
   "id": "dc9d5b86",
   "metadata": {},
   "source": [
    "## 11. Ease of Use"
   ]
  },
  {
   "cell_type": "code",
   "execution_count": null,
   "id": "240f99f2",
   "metadata": {},
   "outputs": [],
   "source": [
    "data_copy['EaseofUse'].value_counts().plot(kind='bar')\n",
    "plt.title(\"Ease of use\", fontsize = 10)\n",
    "plt.xlabel(\"EaseofUse\", fontsize = 10)\n",
    "plt.ylabel(\"Count\", fontsize = 10)"
   ]
  },
  {
   "cell_type": "markdown",
   "id": "279dd496",
   "metadata": {},
   "source": [
    "## 12. Useful Count"
   ]
  },
  {
   "cell_type": "code",
   "execution_count": null,
   "id": "48df0c7c",
   "metadata": {},
   "outputs": [],
   "source": [
    "data_copy['UsefulCount'].value_counts().plot(kind='bar')\n",
    "plt.title(\"Useful Count\", fontsize = 15)\n",
    "plt.xlabel(\"UsefulCount\", fontsize = 15)\n",
    "plt.ylabel(\"Count\", fontsize = 15)"
   ]
  },
  {
   "cell_type": "markdown",
   "id": "b4689c51",
   "metadata": {},
   "source": [
    "## 13. Users by Effectiveness and Gender"
   ]
  },
  {
   "cell_type": "code",
   "execution_count": null,
   "id": "c15eab15",
   "metadata": {},
   "outputs": [],
   "source": [
    "plt.figure(figsize=(10,8))\n",
    "g = sns.catplot(x=\"Effectiveness\",col=\"Sex\",\n",
    "                data=data_copy, kind=\"count\",\n",
    "                height=6,aspect =.9);\n"
   ]
  },
  {
   "cell_type": "markdown",
   "id": "98cd9acf",
   "metadata": {},
   "source": [
    "## 14. Side Effects"
   ]
  },
  {
   "cell_type": "code",
   "execution_count": null,
   "id": "708d4e5e",
   "metadata": {},
   "outputs": [],
   "source": [
    "plt.figure(figsize=(6,6))\n",
    "data_copy['SideEffects'].value_counts().plot.pie(autopct='%1.1f%%',shadow=True)\n",
    "plt.show()"
   ]
  },
  {
   "cell_type": "markdown",
   "id": "aaa437fe",
   "metadata": {},
   "source": [
    "## 15. Side Effects and Age"
   ]
  },
  {
   "cell_type": "code",
   "execution_count": null,
   "id": "779961d8",
   "metadata": {},
   "outputs": [],
   "source": [
    "plt.figure(figsize=(10, 6))\n",
    "sns.countplot(x='Age',hue='SideEffects',data=data_copy)"
   ]
  },
  {
   "cell_type": "markdown",
   "id": "20d36321",
   "metadata": {},
   "source": [
    "## 16. Side Effects and Gender"
   ]
  },
  {
   "cell_type": "code",
   "execution_count": 105,
   "id": "d0b2dc54",
   "metadata": {},
   "outputs": [
    {
     "data": {
      "text/plain": [
       "<Figure size 2000x1000 with 0 Axes>"
      ]
     },
     "metadata": {},
     "output_type": "display_data"
    },
    {
     "data": {
      "image/png": "[encoded data removed]",
      "text/plain": [
       "<Figure size 1080x600 with 2 Axes>"
      ]
     },
     "metadata": {},
     "output_type": "display_data"
    }
   ],
   "source": [
    "plt.figure(figsize=(20,10))\n",
    "\n",
    "g = sns.catplot(x=\"SideEffects\",col=\"Sex\",data=data_copy, kind=\"count\",height=6,aspect =.9);"
   ]
  },
  {
   "cell_type": "markdown",
   "id": "34bb0dee",
   "metadata": {},
   "source": [
    "## 17. Side Effects and Race"
   ]
  },
  {
   "cell_type": "code",
   "execution_count": 106,
   "id": "f6c11a02",
   "metadata": {},
   "outputs": [
    {
     "data": {
      "text/plain": [
       "<AxesSubplot:xlabel='Race', ylabel='count'>"
      ]
     },
     "execution_count": 106,
     "metadata": {},
     "output_type": "execute_result"
    },
    {
     "data": {
      "image/png": "[encoded data removed]",
      "text/plain": [
       "<Figure size 1000x600 with 1 Axes>"
      ]
     },
     "metadata": {},
     "output_type": "display_data"
    }
   ],
   "source": [
    "plt.figure(figsize=(10, 6))\n",
    "sns.countplot(x='Race',hue='SideEffects',data=data_copy)"
   ]
  },
  {
   "cell_type": "markdown",
   "id": "df6671b6",
   "metadata": {},
   "source": [
    "# Splitting the data"
   ]
  },
  {
   "cell_type": "code",
   "execution_count": 108,
   "id": "8fbdf274",
   "metadata": {},
   "outputs": [],
   "source": [
    "#target\n",
    "y = data_new['SideEffects']"
   ]
  },
  {
   "cell_type": "code",
   "execution_count": 109,
   "id": "a6a4ea92",
   "metadata": {},
   "outputs": [],
   "source": [
    "X = data_new.drop(['SideEffects'],axis=1)"
   ]
  },
  {
   "cell_type": "code",
   "execution_count": 110,
   "id": "48182f6a",
   "metadata": {},
   "outputs": [
    {
     "data": {
      "text/plain": [
       "(1914, 8)"
      ]
     },
     "execution_count": 110,
     "metadata": {},
     "output_type": "execute_result"
    }
   ],
   "source": [
    "X.shape"
   ]
  },
  {
   "cell_type": "code",
   "execution_count": null,
   "id": "a38820d3",
   "metadata": {},
   "outputs": [],
   "source": []
  },
  {
   "cell_type": "markdown",
   "id": "dc848ef5",
   "metadata": {},
   "source": [
    "# Splitting the dataset into train and test sets"
   ]
  },
  {
   "cell_type": "code",
   "execution_count": 111,
   "id": "c74cd187",
   "metadata": {},
   "outputs": [],
   "source": [
    "from sklearn.model_selection import train_test_split\n",
    "X_train,X_test,y_train,y_test = train_test_split(X,y, random_state=42,test_size=0.2)#assigninng values"
   ]
  },
  {
   "cell_type": "code",
   "execution_count": 112,
   "id": "2f8ecbdf",
   "metadata": {},
   "outputs": [
    {
     "data": {
      "text/plain": [
       "(1531, 8)"
      ]
     },
     "execution_count": 112,
     "metadata": {},
     "output_type": "execute_result"
    }
   ],
   "source": [
    "X_train.shape"
   ]
  },
  {
   "cell_type": "code",
   "execution_count": 113,
   "id": "a25494f1",
   "metadata": {},
   "outputs": [
    {
     "data": {
      "text/plain": [
       "(383, 8)"
      ]
     },
     "execution_count": 113,
     "metadata": {},
     "output_type": "execute_result"
    }
   ],
   "source": [
    "X_test.shape"
   ]
  },
  {
   "cell_type": "code",
   "execution_count": 114,
   "id": "ff7c8a25",
   "metadata": {},
   "outputs": [
    {
     "data": {
      "text/plain": [
       "(1531,)"
      ]
     },
     "execution_count": 114,
     "metadata": {},
     "output_type": "execute_result"
    }
   ],
   "source": [
    "y_train.shape"
   ]
  },
  {
   "cell_type": "code",
   "execution_count": 115,
   "id": "2bb9a286",
   "metadata": {},
   "outputs": [
    {
     "data": {
      "text/plain": [
       "(383,)"
      ]
     },
     "execution_count": 115,
     "metadata": {},
     "output_type": "execute_result"
    }
   ],
   "source": [
    "y_test.shape"
   ]
  },
  {
   "cell_type": "markdown",
   "id": "5dd9b868",
   "metadata": {},
   "source": [
    "# Modelling"
   ]
  },
  {
   "cell_type": "markdown",
   "id": "c8d957d4",
   "metadata": {},
   "source": [
    "## 1. Logistic Regression Model"
   ]
  },
  {
   "cell_type": "code",
   "execution_count": 137,
   "id": "eb2a29e3",
   "metadata": {},
   "outputs": [],
   "source": [
    "from sklearn.linear_model import LogisticRegression\n",
    "logit_model = LogisticRegression(max_iter=1000,solver='liblinear')\n",
    "logit_model.fit(X_train, y_train)\n",
    "y_pred = logit_model.predict(X_test)"
   ]
  },
  {
   "cell_type": "code",
   "execution_count": 138,
   "id": "64df5341",
   "metadata": {},
   "outputs": [],
   "source": [
    "from sklearn.metrics import confusion_matrix, accuracy_score, precision_score,recall_score,f1_score,classification_report"
   ]
  },
  {
   "cell_type": "markdown",
   "id": "b92c08f1",
   "metadata": {},
   "source": [
    "### Performance Evaluation"
   ]
  },
  {
   "cell_type": "code",
   "execution_count": 139,
   "id": "251dc79a",
   "metadata": {},
   "outputs": [
    {
     "name": "stdout",
     "output_type": "stream",
     "text": [
      "Accuracy is :  53.00261096605744\n"
     ]
    }
   ],
   "source": [
    "print(\"Accuracy is : \", accuracy_score(y_test, y_pred)*100)"
   ]
  },
  {
   "cell_type": "markdown",
   "id": "b661e1c9",
   "metadata": {},
   "source": [
    "## Confusion Matrix of Logistic Regression Model"
   ]
  },
  {
   "cell_type": "code",
   "execution_count": 140,
   "id": "70eff2e3",
   "metadata": {},
   "outputs": [
    {
     "data": {
      "text/plain": [
       "array([[86,  0,  3,  1,  3],\n",
       "       [ 6,  0,  9, 21,  1],\n",
       "       [21,  0, 17, 25,  4],\n",
       "       [ 7,  1, 14, 91,  1],\n",
       "       [32,  0, 27,  4,  9]], dtype=int64)"
      ]
     },
     "execution_count": 140,
     "metadata": {},
     "output_type": "execute_result"
    }
   ],
   "source": [
    "confusion_matrix(y_test,y_pred)"
   ]
  },
  {
   "cell_type": "markdown",
   "id": "0b0d9007",
   "metadata": {},
   "source": [
    "# 2. KNN Model"
   ]
  },
  {
   "cell_type": "code",
   "execution_count": 141,
   "id": "7d7cff82",
   "metadata": {},
   "outputs": [],
   "source": [
    "from sklearn.neighbors import KNeighborsClassifier"
   ]
  },
  {
   "cell_type": "code",
   "execution_count": 144,
   "id": "5b8af610",
   "metadata": {},
   "outputs": [],
   "source": [
    "from sklearn.metrics import accuracy_score\n",
    "import warnings\n",
    "# Suppress the warning\n",
    "warnings.filterwarnings(\"ignore\", category=FutureWarning)\n",
    "acc_values = []\n",
    "neighbors = np.arange(3, 15)\n",
    "\n",
    "# Creating a loop to create KNN model for each K value\n",
    "for k in neighbors:\n",
    "    classifier = KNeighborsClassifier(n_neighbors=k)  # Create an instance of KNN with k neighbors\n",
    "    classifier.fit(X_train, y_train)  # Train the model\n",
    "    y_pred = classifier.predict(X_test)  # Make predictions\n",
    "    acc = accuracy_score(y_test, y_pred)  # Compute accuracy score\n",
    "    acc_values.append(acc)  # Append accuracy score to the list\n"
   ]
  },
  {
   "cell_type": "code",
   "execution_count": 145,
   "id": "ec8fc1d0",
   "metadata": {},
   "outputs": [
    {
     "data": {
      "text/plain": [
       "[0.31592689295039167,\n",
       " 0.3028720626631854,\n",
       " 0.28720626631853785,\n",
       " 0.30548302872062666,\n",
       " 0.33159268929503916,\n",
       " 0.3368146214099217,\n",
       " 0.34203655352480417,\n",
       " 0.30548302872062666,\n",
       " 0.30548302872062666,\n",
       " 0.30548302872062666,\n",
       " 0.31070496083550914,\n",
       " 0.3237597911227154]"
      ]
     },
     "execution_count": 145,
     "metadata": {},
     "output_type": "execute_result"
    }
   ],
   "source": [
    "acc_values"
   ]
  },
  {
   "cell_type": "markdown",
   "id": "f65f2d90",
   "metadata": {},
   "source": [
    "## To find which k value got the highest accuracy, plotted a graph between neighbor values (i.e. k values) and accuracy values"
   ]
  },
  {
   "cell_type": "code",
   "execution_count": 146,
   "id": "ba601399",
   "metadata": {},
   "outputs": [
    {
     "data": {
      "text/plain": [
       "Text(0, 0.5, 'accuracy')"
      ]
     },
     "execution_count": 146,
     "metadata": {},
     "output_type": "execute_result"
    },
    {
     "data": {
      "image/png": "[encoded data removed]",
      "text/plain": [
       "<Figure size 640x480 with 1 Axes>"
      ]
     },
     "metadata": {},
     "output_type": "display_data"
    }
   ],
   "source": [
    "plt.plot(neighbors,acc_values,'o-')\n",
    "plt.xlabel('k value')\n",
    "plt.ylabel('accuracy')"
   ]
  },
  {
   "cell_type": "code",
   "execution_count": 149,
   "id": "0e4f98cf",
   "metadata": {},
   "outputs": [],
   "source": [
    "classifier = KNeighborsClassifier(n_neighbors= 9, metric = 'minkowski')\n",
    "classifier.fit(X_train,y_train)\n",
    "y_pred = classifier.predict(X_test)"
   ]
  },
  {
   "cell_type": "code",
   "execution_count": 150,
   "id": "74dc8a5b",
   "metadata": {},
   "outputs": [
    {
     "name": "stdout",
     "output_type": "stream",
     "text": [
      "Accuracy is :  34.20365535248042\n"
     ]
    }
   ],
   "source": [
    "print(\"Accuracy is : \", accuracy_score(y_test, y_pred)*100)"
   ]
  },
  {
   "cell_type": "markdown",
   "id": "5ee5c4e9",
   "metadata": {},
   "source": [
    "## Confusion Matrix for KNN Classifier"
   ]
  },
  {
   "cell_type": "code",
   "execution_count": 151,
   "id": "2c5459d3",
   "metadata": {},
   "outputs": [
    {
     "data": {
      "text/plain": [
       "array([[58,  6, 11,  8, 10],\n",
       "       [14,  2,  6, 11,  4],\n",
       "       [30,  5, 15, 10,  7],\n",
       "       [23, 15, 21, 47,  8],\n",
       "       [42,  3,  9,  9,  9]], dtype=int64)"
      ]
     },
     "execution_count": 151,
     "metadata": {},
     "output_type": "execute_result"
    }
   ],
   "source": [
    "confusion_matrix(y_test,y_pred)"
   ]
  },
  {
   "cell_type": "markdown",
   "id": "00aa8773",
   "metadata": {},
   "source": [
    "# 3. Decision Tree Classifier"
   ]
  },
  {
   "cell_type": "code",
   "execution_count": 152,
   "id": "618b2260",
   "metadata": {},
   "outputs": [],
   "source": [
    "from sklearn.tree import DecisionTreeClassifier\n",
    "dt_model = DecisionTreeClassifier()\n",
    "dt_model.fit(X_train,y_train)\n",
    "y_pred = dt_model.predict(X_test)"
   ]
  },
  {
   "cell_type": "markdown",
   "id": "0f8f4524",
   "metadata": {},
   "source": [
    "## Performance Evaluation"
   ]
  },
  {
   "cell_type": "code",
   "execution_count": 153,
   "id": "93b2b59a",
   "metadata": {},
   "outputs": [
    {
     "name": "stdout",
     "output_type": "stream",
     "text": [
      "Accuracy is :  47.51958224543081\n"
     ]
    }
   ],
   "source": [
    "print(\"Accuracy is : \", accuracy_score(y_test, y_pred)*100)"
   ]
  },
  {
   "cell_type": "markdown",
   "id": "c6c3a2dc",
   "metadata": {},
   "source": [
    "## Confusion Matrix of Decision Tree Model"
   ]
  },
  {
   "cell_type": "code",
   "execution_count": 154,
   "id": "2c029f40",
   "metadata": {},
   "outputs": [
    {
     "data": {
      "text/plain": [
       "array([[61,  3,  9,  6, 14],\n",
       "       [ 6,  5,  9, 13,  4],\n",
       "       [11, 12, 17, 11, 16],\n",
       "       [ 5, 12,  9, 78, 10],\n",
       "       [19,  9, 17,  6, 21]], dtype=int64)"
      ]
     },
     "execution_count": 154,
     "metadata": {},
     "output_type": "execute_result"
    }
   ],
   "source": [
    "confusion_matrix(y_test,y_pred)"
   ]
  },
  {
   "cell_type": "markdown",
   "id": "f2a7269f",
   "metadata": {},
   "source": [
    "# 4. Support Vector Machine"
   ]
  },
  {
   "cell_type": "markdown",
   "id": "402903d6",
   "metadata": {},
   "source": [
    "## a. Linear SVM"
   ]
  },
  {
   "cell_type": "code",
   "execution_count": 155,
   "id": "4f5c0304",
   "metadata": {},
   "outputs": [],
   "source": [
    "from sklearn.svm import SVC\n",
    "svm_linear = SVC(kernel = 'linear')#creating an instance\n",
    "svm_linear.fit(X_train,y_train)\n",
    "y_pred = svm_linear.predict(X_test)"
   ]
  },
  {
   "cell_type": "markdown",
   "id": "089b0e2d",
   "metadata": {},
   "source": [
    "## Performance Evaluation"
   ]
  },
  {
   "cell_type": "code",
   "execution_count": 156,
   "id": "5e12cf71",
   "metadata": {},
   "outputs": [
    {
     "name": "stdout",
     "output_type": "stream",
     "text": [
      "Accuracy is :  56.919060052219315\n"
     ]
    }
   ],
   "source": [
    "print(\"Accuracy is : \", accuracy_score(y_test, y_pred)*100)"
   ]
  },
  {
   "cell_type": "markdown",
   "id": "4bf5ef1e",
   "metadata": {},
   "source": [
    "## Confusion Matrix of Linear SVM Model"
   ]
  },
  {
   "cell_type": "code",
   "execution_count": 157,
   "id": "925e6ed0",
   "metadata": {},
   "outputs": [
    {
     "data": {
      "text/plain": [
       "array([[74,  0,  3,  0, 16],\n",
       "       [ 3,  0, 12, 17,  5],\n",
       "       [12,  1, 25, 14, 15],\n",
       "       [ 5,  3, 14, 86,  6],\n",
       "       [13,  2, 23,  1, 33]], dtype=int64)"
      ]
     },
     "execution_count": 157,
     "metadata": {},
     "output_type": "execute_result"
    }
   ],
   "source": [
    "confusion_matrix(y_test,y_pred)"
   ]
  },
  {
   "cell_type": "markdown",
   "id": "b5e60031",
   "metadata": {},
   "source": [
    "# b. Polynomial SVM"
   ]
  },
  {
   "cell_type": "code",
   "execution_count": 158,
   "id": "998d7e41",
   "metadata": {},
   "outputs": [],
   "source": [
    "svm_poly = SVC(kernel = 'poly', degree=3)\n",
    "svm_poly.fit(X_train,y_train)\n",
    "y_pred = svm_poly.predict(X_test)"
   ]
  },
  {
   "cell_type": "markdown",
   "id": "bdef2504",
   "metadata": {},
   "source": [
    "## Performance Evaluation"
   ]
  },
  {
   "cell_type": "code",
   "execution_count": 159,
   "id": "22d23542",
   "metadata": {},
   "outputs": [
    {
     "name": "stdout",
     "output_type": "stream",
     "text": [
      "Accuracy is :  34.20365535248042\n"
     ]
    }
   ],
   "source": [
    "print(\"Accuracy is : \", accuracy_score(y_test, y_pred)*100)"
   ]
  },
  {
   "cell_type": "markdown",
   "id": "0936e8b5",
   "metadata": {},
   "source": [
    "### Confusion Matrix of Polynomial SVM"
   ]
  },
  {
   "cell_type": "code",
   "execution_count": 160,
   "id": "0b1111fa",
   "metadata": {},
   "outputs": [
    {
     "data": {
      "text/plain": [
       "array([[35,  0,  0, 58,  0],\n",
       "       [ 6,  0,  0, 31,  0],\n",
       "       [20,  0,  0, 47,  0],\n",
       "       [18,  0,  0, 96,  0],\n",
       "       [35,  0,  0, 37,  0]], dtype=int64)"
      ]
     },
     "execution_count": 160,
     "metadata": {},
     "output_type": "execute_result"
    }
   ],
   "source": [
    "confusion_matrix(y_test,y_pred)"
   ]
  },
  {
   "cell_type": "markdown",
   "id": "600999bb",
   "metadata": {},
   "source": [
    "# c. Radial SVM"
   ]
  },
  {
   "cell_type": "code",
   "execution_count": 161,
   "id": "31d912bd",
   "metadata": {},
   "outputs": [],
   "source": [
    "svm_radial = SVC(kernel='rbf')\n",
    "svm_radial.fit(X_train,y_train)\n",
    "y_pred=svm_radial.predict(X_test)"
   ]
  },
  {
   "cell_type": "markdown",
   "id": "6ba7b894",
   "metadata": {},
   "source": [
    "## Performance Evaluation"
   ]
  },
  {
   "cell_type": "code",
   "execution_count": 162,
   "id": "233eceb5",
   "metadata": {},
   "outputs": [
    {
     "name": "stdout",
     "output_type": "stream",
     "text": [
      "Accuracy is :  33.68146214099217\n"
     ]
    }
   ],
   "source": [
    "print(\"Accuracy is : \", accuracy_score(y_test, y_pred)*100)"
   ]
  },
  {
   "cell_type": "markdown",
   "id": "42cce2c3",
   "metadata": {},
   "source": [
    "### Confusion Matrix"
   ]
  },
  {
   "cell_type": "code",
   "execution_count": 164,
   "id": "d80fdbf7",
   "metadata": {},
   "outputs": [
    {
     "data": {
      "text/plain": [
       "array([[38,  0,  0, 55,  0],\n",
       "       [ 7,  0,  0, 30,  0],\n",
       "       [26,  0,  0, 41,  0],\n",
       "       [23,  0,  0, 91,  0],\n",
       "       [42,  0,  0, 30,  0]], dtype=int64)"
      ]
     },
     "execution_count": 164,
     "metadata": {},
     "output_type": "execute_result"
    }
   ],
   "source": [
    "confusion_matrix(y_test,y_pred)"
   ]
  },
  {
   "cell_type": "markdown",
   "id": "a79c3ab0",
   "metadata": {},
   "source": [
    "# 5. Random Forest"
   ]
  },
  {
   "cell_type": "code",
   "execution_count": 165,
   "id": "2c0536d6",
   "metadata": {},
   "outputs": [],
   "source": [
    "from sklearn.ensemble import RandomForestClassifier\n",
    "rf=RandomForestClassifier()\n",
    "#training the model\n",
    "rf.fit(X_train,y_train)\n",
    "#to make predictions\n",
    "y_pred=rf.predict(X_test)"
   ]
  },
  {
   "cell_type": "code",
   "execution_count": 166,
   "id": "ebea2fdb",
   "metadata": {},
   "outputs": [
    {
     "name": "stdout",
     "output_type": "stream",
     "text": [
      "Accuracy is :  56.6579634464752\n"
     ]
    }
   ],
   "source": [
    "print(\"Accuracy is : \", accuracy_score(y_test, y_pred)*100)"
   ]
  },
  {
   "cell_type": "code",
   "execution_count": 167,
   "id": "30a1b9fa",
   "metadata": {},
   "outputs": [
    {
     "data": {
      "text/plain": [
       "array([[77,  0,  4,  2, 10],\n",
       "       [ 4,  6, 11, 13,  3],\n",
       "       [15,  5, 24,  7, 16],\n",
       "       [ 6,  7, 10, 82,  9],\n",
       "       [18,  4, 19,  3, 28]], dtype=int64)"
      ]
     },
     "execution_count": 167,
     "metadata": {},
     "output_type": "execute_result"
    }
   ],
   "source": [
    "confusion_matrix(y_test,y_pred)"
   ]
  },
  {
   "cell_type": "markdown",
   "id": "9b525734",
   "metadata": {},
   "source": [
    "# Feature Importance"
   ]
  },
  {
   "cell_type": "code",
   "execution_count": 168,
   "id": "be600750",
   "metadata": {},
   "outputs": [
    {
     "data": {
      "text/plain": [
       "Effectiveness      20.410461\n",
       "sentiment          20.231961\n",
       "Condition          17.837481\n",
       "EaseofUse          14.529255\n",
       "Age                11.728883\n",
       "Race                9.764881\n",
       "Sex                 2.765290\n",
       "sentiment_label     2.731788\n",
       "dtype: float64"
      ]
     },
     "execution_count": 168,
     "metadata": {},
     "output_type": "execute_result"
    }
   ],
   "source": [
    "pd.Series(rf.feature_importances_,index=X.columns).sort_values(ascending=False)*100"
   ]
  },
  {
   "cell_type": "markdown",
   "id": "980c99d9",
   "metadata": {},
   "source": [
    "## Fine tuning of hyper parameters"
   ]
  },
  {
   "cell_type": "code",
   "execution_count": 169,
   "id": "9f8fcc83",
   "metadata": {},
   "outputs": [
    {
     "data": {
      "text/plain": [
       "RandomForestClassifier()"
      ]
     },
     "execution_count": 169,
     "metadata": {},
     "output_type": "execute_result"
    }
   ],
   "source": [
    "rf.fit(X_train,y_train)"
   ]
  },
  {
   "cell_type": "code",
   "execution_count": 170,
   "id": "8d518107",
   "metadata": {},
   "outputs": [],
   "source": [
    "# creating another instance of random forest classifier with some changes in hyperparameter\n",
    "rft= RandomForestClassifier(bootstrap=True, n_estimators=1000,max_depth=8,random_state =42,criterion='entropy')"
   ]
  },
  {
   "cell_type": "code",
   "execution_count": 171,
   "id": "5cf53909",
   "metadata": {},
   "outputs": [
    {
     "data": {
      "text/plain": [
       "RandomForestClassifier(criterion='entropy', max_depth=8, n_estimators=1000,\n",
       "                       random_state=42)"
      ]
     },
     "execution_count": 171,
     "metadata": {},
     "output_type": "execute_result"
    }
   ],
   "source": [
    "rft.fit(X_train,y_train)"
   ]
  },
  {
   "cell_type": "code",
   "execution_count": 172,
   "id": "a7a0804d",
   "metadata": {},
   "outputs": [],
   "source": [
    "y_pred=rft.predict(X_test)"
   ]
  },
  {
   "cell_type": "code",
   "execution_count": 173,
   "id": "37eaa702",
   "metadata": {},
   "outputs": [
    {
     "name": "stdout",
     "output_type": "stream",
     "text": [
      "Accuracy is :  57.702349869451695\n"
     ]
    }
   ],
   "source": [
    "print(\"Accuracy is : \", accuracy_score(y_test, y_pred)*100)\n"
   ]
  },
  {
   "cell_type": "markdown",
   "id": "ee0d985e",
   "metadata": {},
   "source": [
    "# 6. Gradient Boosting"
   ]
  },
  {
   "cell_type": "code",
   "execution_count": 174,
   "id": "c8d01cf1",
   "metadata": {},
   "outputs": [],
   "source": [
    "from sklearn.ensemble import GradientBoostingClassifier\n",
    "gb = GradientBoostingClassifier()\n",
    "gb.fit(X_train,y_train)\n",
    "y_pred = gb.predict(X_test)"
   ]
  },
  {
   "cell_type": "code",
   "execution_count": 175,
   "id": "fc1db091",
   "metadata": {},
   "outputs": [
    {
     "name": "stdout",
     "output_type": "stream",
     "text": [
      "Accuracy is:  55.87467362924282\n"
     ]
    }
   ],
   "source": [
    "print('Accuracy is: ',accuracy_score(y_test,y_pred)*100)"
   ]
  },
  {
   "cell_type": "code",
   "execution_count": 176,
   "id": "c53ac2a2",
   "metadata": {},
   "outputs": [
    {
     "data": {
      "text/plain": [
       "array([[81,  0,  6,  0,  6],\n",
       "       [ 4,  5, 13, 12,  3],\n",
       "       [17,  2, 24,  7, 17],\n",
       "       [ 6,  9, 14, 74, 11],\n",
       "       [23,  4, 14,  1, 30]], dtype=int64)"
      ]
     },
     "execution_count": 176,
     "metadata": {},
     "output_type": "execute_result"
    }
   ],
   "source": [
    "confusion_matrix(y_test,y_pred)"
   ]
  },
  {
   "cell_type": "markdown",
   "id": "91cc9d00",
   "metadata": {},
   "source": [
    "# 7. Extreme Gradient Boosting"
   ]
  },
  {
   "cell_type": "code",
   "execution_count": 178,
   "id": "1fc9b097",
   "metadata": {},
   "outputs": [
    {
     "name": "stdout",
     "output_type": "stream",
     "text": [
      "Collecting xgboost\n",
      "  Downloading xgboost-1.7.6-py3-none-win_amd64.whl (70.9 MB)\n",
      "     ---------------------------------------- 70.9/70.9 MB 1.7 MB/s eta 0:00:00\n",
      "Requirement already satisfied: scipy in c:\\users\\abisa\\anaconda3\\lib\\site-packages (from xgboost) (1.9.1)\n",
      "Requirement already satisfied: numpy in c:\\users\\abisa\\anaconda3\\lib\\site-packages (from xgboost) (1.23.5)\n",
      "Installing collected packages: xgboost\n",
      "Successfully installed xgboost-1.7.6\n",
      "Note: you may need to restart the kernel to use updated packages.\n"
     ]
    }
   ],
   "source": [
    "pip install xgboost\n"
   ]
  },
  {
   "cell_type": "code",
   "execution_count": 179,
   "id": "c509768b",
   "metadata": {},
   "outputs": [],
   "source": [
    "from xgboost import XGBClassifier\n",
    "#creating an instance\n",
    "xgb=XGBClassifier()\n",
    "xgb.fit(X_train,y_train)\n",
    "y_pred= xgb.predict(X_test)"
   ]
  },
  {
   "cell_type": "code",
   "execution_count": 180,
   "id": "d7ddf3cb",
   "metadata": {},
   "outputs": [
    {
     "name": "stdout",
     "output_type": "stream",
     "text": [
      "Accuracy is:  51.958224543080945\n"
     ]
    }
   ],
   "source": [
    "print('Accuracy is: ',accuracy_score(y_test,y_pred)*100)"
   ]
  },
  {
   "cell_type": "code",
   "execution_count": 181,
   "id": "6cf56557",
   "metadata": {},
   "outputs": [
    {
     "data": {
      "text/plain": [
       "array([[74,  0,  5,  2, 12],\n",
       "       [ 5,  6, 14, 10,  2],\n",
       "       [14,  6, 23, 11, 13],\n",
       "       [ 6, 11, 14, 73, 10],\n",
       "       [16,  6, 23,  4, 23]], dtype=int64)"
      ]
     },
     "execution_count": 181,
     "metadata": {},
     "output_type": "execute_result"
    }
   ],
   "source": [
    "confusion_matrix(y_test,y_pred)"
   ]
  },
  {
   "cell_type": "code",
   "execution_count": null,
   "id": "9cb5abc3",
   "metadata": {},
   "outputs": [],
   "source": [
    "\n"
   ]
  }
 ],
 "metadata": {
  "kernelspec": {
   "display_name": "Python 3 (ipykernel)",
   "language": "python",
   "name": "python3"
  },
  "language_info": {
   "codemirror_mode": {
    "name": "ipython",
    "version": 3
   },
   "file_extension": ".py",
   "mimetype": "text/x-python",
   "name": "python",
   "nbconvert_exporter": "python",
   "pygments_lexer": "ipython3",
   "version": "3.9.13"
  }
 },
 "nbformat": 4,
 "nbformat_minor": 5
}
